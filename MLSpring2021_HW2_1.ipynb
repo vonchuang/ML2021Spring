{
  "cells": [
    {
      "cell_type": "markdown",
      "metadata": {
        "id": "view-in-github",
        "colab_type": "text"
      },
      "source": [
        "<a href=\"https://colab.research.google.com/github/vonchuang/ML2021Spring/blob/main/MLSpring2021_HW2_1.ipynb\" target=\"_parent\"><img src=\"https://colab.research.google.com/assets/colab-badge.svg\" alt=\"Open In Colab\"/></a>"
      ]
    },
    {
      "cell_type": "markdown",
      "metadata": {
        "id": "OYlaRwNu7ojq"
      },
      "source": [
        "# **Homework 2-1 Phoneme Classification**\n",
        "\n",
        "* Slides: https://speech.ee.ntu.edu.tw/~hylee/ml/ml2021-course-data/hw/HW02/HW02.pdf\n",
        "* Video (Chinese): https://youtu.be/PdjXnQbu2zo\n",
        "* Video (English): https://youtu.be/ESRr-VCykBs\n"
      ]
    },
    {
      "cell_type": "markdown",
      "metadata": {
        "id": "emUd7uS7crTz"
      },
      "source": [
        "## The DARPA TIMIT Acoustic-Phonetic Continuous Speech Corpus (TIMIT)\n",
        "The TIMIT corpus of reading speech has been designed to provide speech data for the acquisition of acoustic-phonetic knowledge and for the development and evaluation of automatic speech recognition systems.\n",
        "\n",
        "This homework is a multiclass classification task, \n",
        "we are going to train a deep neural network classifier to predict the phonemes for each frame from the speech corpus TIMIT.\n",
        "\n",
        "link: https://academictorrents.com/details/34e2b78745138186976cbc27939b1b34d18bd5b3"
      ]
    },
    {
      "cell_type": "markdown",
      "metadata": {
        "id": "KVUGfWTo7_Oj"
      },
      "source": [
        "## Download Data\n",
        "Download data from google drive, then unzip it.\n",
        "\n",
        "You should have `timit_11/train_11.npy`, `timit_11/train_label_11.npy`, and `timit_11/test_11.npy` after running this block.<br><br>\n",
        "`timit_11/`\n",
        "- `train_11.npy`: training data<br>\n",
        "- `train_label_11.npy`: training label<br>\n",
        "- `test_11.npy`:  testing data<br><br>\n",
        "\n",
        "**notes: if the google drive link is dead, you can download the data directly from Kaggle and upload it to the workspace**\n",
        "\n",
        "\n"
      ]
    },
    {
      "cell_type": "code",
      "execution_count": 1,
      "metadata": {
        "id": "XYJD18bulf-H"
      },
      "outputs": [],
      "source": [
        "from google.colab import drive # Import a library named google.colab\n",
        "#drive.mount('/content/drive', force_remount=True) # mount the content to the directory `/content/drive`"
      ]
    },
    {
      "cell_type": "code",
      "execution_count": 2,
      "metadata": {
        "colab": {
          "base_uri": "https://localhost:8080/"
        },
        "id": "OzkiMEcC3Foq",
        "outputId": "78617629-e5a4-4d20-dbb4-ab55b14f0f16"
      },
      "outputs": [
        {
          "output_type": "stream",
          "name": "stdout",
          "text": [
            "data.zip  drive  model.ckpt  prediction.csv  sample_data  timit_11\n"
          ]
        }
      ],
      "source": [
        "#!cp /content/drive/MyDrive/ML2021/data.zip ./\n",
        "#!gdown --no-cookies --id '1HPkcmQmFGu-3OknddKIa5dNDsR05lIQR' --output data.zip\n",
        "#!unzip data.zip\n",
        "!ls "
      ]
    },
    {
      "cell_type": "markdown",
      "metadata": {
        "id": "_L_4anls8Drv"
      },
      "source": [
        "## Preparing Data\n",
        "Load the training and testing data from the `.npy` file (NumPy array)."
      ]
    },
    {
      "cell_type": "code",
      "execution_count": 3,
      "metadata": {
        "colab": {
          "base_uri": "https://localhost:8080/"
        },
        "id": "IJjLT8em-y9G",
        "outputId": "d267529b-46a9-4d12-9d7c-53949c030872"
      },
      "outputs": [
        {
          "output_type": "stream",
          "name": "stdout",
          "text": [
            "Loading data ...\n",
            "Size of training data: (1229932, 429)\n",
            "Size of testing data: (451552, 429)\n"
          ]
        }
      ],
      "source": [
        "import numpy as np\n",
        "\n",
        "print('Loading data ...')\n",
        "\n",
        "data_root='./timit_11/'\n",
        "train = np.load(data_root + 'train_11.npy')\n",
        "train_label = np.load(data_root + 'train_label_11.npy')\n",
        "test = np.load(data_root + 'test_11.npy')\n",
        "\n",
        "print('Size of training data: {}'.format(train.shape))\n",
        "print('Size of testing data: {}'.format(test.shape))"
      ]
    },
    {
      "cell_type": "markdown",
      "metadata": {
        "id": "us5XW_x6udZQ"
      },
      "source": [
        "## Create Dataset"
      ]
    },
    {
      "cell_type": "code",
      "execution_count": 4,
      "metadata": {
        "id": "Fjf5EcmJtf4e"
      },
      "outputs": [],
      "source": [
        "import torch\n",
        "from torch.utils.data import Dataset\n",
        "\n",
        "class TIMITDataset(Dataset):\n",
        "    def __init__(self, X, y=None):\n",
        "        self.data = torch.from_numpy(X).float()\n",
        "        if y is not None:\n",
        "            y = y.astype(np.int)\n",
        "            self.label = torch.LongTensor(y)\n",
        "        else:\n",
        "            self.label = None\n",
        "\n",
        "    def __getitem__(self, idx):\n",
        "        if self.label is not None:\n",
        "            return self.data[idx], self.label[idx]\n",
        "        else:\n",
        "            return self.data[idx]\n",
        "\n",
        "    def __len__(self):\n",
        "        return len(self.data)\n"
      ]
    },
    {
      "cell_type": "markdown",
      "metadata": {
        "id": "otIC6WhGeh9v"
      },
      "source": [
        "Split the labeled data into a training set and a validation set, you can modify the variable `VAL_RATIO` to change the ratio of validation data."
      ]
    },
    {
      "cell_type": "code",
      "execution_count": 5,
      "metadata": {
        "colab": {
          "base_uri": "https://localhost:8080/"
        },
        "id": "sYqi_lAuvC59",
        "outputId": "e6f852fb-f1db-4fc0-f981-67d8d7c27015"
      },
      "outputs": [
        {
          "output_type": "stream",
          "name": "stdout",
          "text": [
            "Size of training set: (1131537, 429)\n",
            "Size of validation set: (98395, 429)\n"
          ]
        }
      ],
      "source": [
        "VAL_RATIO = 0.08\n",
        "\n",
        "percent = int(train.shape[0] * (1 - VAL_RATIO))\n",
        "train_x, train_y, val_x, val_y = train[:percent], train_label[:percent], train[percent:], train_label[percent:]\n",
        "print('Size of training set: {}'.format(train_x.shape))\n",
        "print('Size of validation set: {}'.format(val_x.shape))"
      ]
    },
    {
      "cell_type": "markdown",
      "metadata": {
        "id": "nbCfclUIgMTX"
      },
      "source": [
        "Create a data loader from the dataset, feel free to tweak the variable `BATCH_SIZE` here."
      ]
    },
    {
      "cell_type": "code",
      "execution_count": 6,
      "metadata": {
        "colab": {
          "base_uri": "https://localhost:8080/"
        },
        "id": "RUCbQvqJurYc",
        "outputId": "e33ecfd3-9031-4f2a-c321-5596b8b88137"
      },
      "outputs": [
        {
          "output_type": "stream",
          "name": "stderr",
          "text": [
            "<ipython-input-4-f6af567917fe>:8: DeprecationWarning: `np.int` is a deprecated alias for the builtin `int`. To silence this warning, use `int` by itself. Doing this will not modify any behavior and is safe. When replacing `np.int`, you may wish to use e.g. `np.int64` or `np.int32` to specify the precision. If you wish to review your current use, check the release note link for additional information.\n",
            "Deprecated in NumPy 1.20; for more details and guidance: https://numpy.org/devdocs/release/1.20.0-notes.html#deprecations\n",
            "  y = y.astype(np.int)\n"
          ]
        }
      ],
      "source": [
        "BATCH_SIZE = 256\n",
        "\n",
        "from torch.utils.data import DataLoader\n",
        "\n",
        "train_set = TIMITDataset(train_x, train_y)\n",
        "val_set = TIMITDataset(val_x, val_y)\n",
        "train_loader = DataLoader(train_set, batch_size=BATCH_SIZE, shuffle=True) #only shuffle the training data\n",
        "val_loader = DataLoader(val_set, batch_size=BATCH_SIZE, shuffle=False)"
      ]
    },
    {
      "cell_type": "markdown",
      "metadata": {
        "id": "_SY7X0lUgb50"
      },
      "source": [
        "Cleanup the unneeded variables to save memory.<br>\n",
        "\n",
        "**notes: if you need to use these variables later, then you may remove this block or clean up unneeded variables later<br>the data size is quite huge, so be aware of memory usage in colab**"
      ]
    },
    {
      "cell_type": "code",
      "execution_count": 7,
      "metadata": {
        "colab": {
          "base_uri": "https://localhost:8080/"
        },
        "id": "y8rzkGraeYeN",
        "outputId": "035205b9-58b3-4f93-bcc5-bae66bab69a2"
      },
      "outputs": [
        {
          "output_type": "execute_result",
          "data": {
            "text/plain": [
              "0"
            ]
          },
          "metadata": {},
          "execution_count": 7
        }
      ],
      "source": [
        "import gc\n",
        "\n",
        "del train, train_label, train_x, train_y, val_x, val_y\n",
        "gc.collect()"
      ]
    },
    {
      "cell_type": "markdown",
      "metadata": {
        "id": "IRqKNvNZwe3V"
      },
      "source": [
        "## Create Model"
      ]
    },
    {
      "cell_type": "markdown",
      "metadata": {
        "id": "FYr1ng5fh9pA"
      },
      "source": [
        "Define model architecture, you are encouraged to change and experiment with the model architecture."
      ]
    },
    {
      "cell_type": "markdown",
      "source": [
        "* ref: [深度學習基礎系列（九）| Dropout VS Batch Normalization? 是時候放棄Dropout了](https://www.796t.com/content/1542171910.html)"
      ],
      "metadata": {
        "id": "i-wE5hsC3zed"
      }
    },
    {
      "cell_type": "code",
      "execution_count": 8,
      "metadata": {
        "id": "lbZrwT6Ny0XL"
      },
      "outputs": [],
      "source": [
        "import torch\n",
        "import torch.nn as nn\n",
        "\n",
        "class Classifier(nn.Module):\n",
        "    def __init__(self):\n",
        "        super(Classifier, self).__init__()\n",
        "        self.layer1 = nn.Linear(429, 1024)\n",
        "        self.layer2 = nn.Linear(1024, 512)\n",
        "        self.layer3 = nn.Linear(512, 256)\n",
        "        self.layer4 = nn.Linear(256, 128)\n",
        "        self.out = nn.Linear(128, 39) \n",
        "        self.batch_norm_1 = nn.BatchNorm1d(1024)#使用BN，加速模型训练\n",
        "        self.batch_norm_2 = nn.BatchNorm1d(512)\n",
        "        self.batch_norm_3 = nn.BatchNorm1d(256)\n",
        "        self.batch_norm_4 = nn.BatchNorm1d(128)\n",
        "        #self.drop_out = nn.Dropout(p=0.2)#使用Dropout，减小过拟合，注意不能在BN之前\n",
        "\n",
        "        #self.act_fn = nn.Sigmoid()\n",
        "        self.act_fn = nn.LeakyReLU()\n",
        "\n",
        "    def forward(self, x):\n",
        "        x = self.layer1(x)\n",
        "        x = self.batch_norm_1(x)\n",
        "        #x = self.drop_out(x)\n",
        "        x = self.act_fn(x)\n",
        "\n",
        "        x = self.layer2(x)\n",
        "        x = self.batch_norm_2(x)\n",
        "        #x = self.drop_out(x)\n",
        "        x = self.act_fn(x)\n",
        "\n",
        "        x = self.layer3(x)\n",
        "        x = self.batch_norm_3(x)\n",
        "        #x = self.drop_out(x)\n",
        "        x = self.act_fn(x)\n",
        "\n",
        "        x = self.layer4(x)\n",
        "        x = self.batch_norm_4(x)\n",
        "        #x = self.drop_out(x)\n",
        "        x = self.act_fn(x)\n",
        "\n",
        "        x = self.out(x)\n",
        "        \n",
        "        return x"
      ]
    },
    {
      "cell_type": "markdown",
      "metadata": {
        "id": "VRYciXZvPbYh"
      },
      "source": [
        "## Training"
      ]
    },
    {
      "cell_type": "code",
      "execution_count": 9,
      "metadata": {
        "id": "y114Vmm3Ja6o"
      },
      "outputs": [],
      "source": [
        "#check device\n",
        "def get_device():\n",
        "  return 'cuda' if torch.cuda.is_available() else 'cpu'"
      ]
    },
    {
      "cell_type": "markdown",
      "metadata": {
        "id": "sEX-yjHjhGuH"
      },
      "source": [
        "Fix random seeds for reproducibility."
      ]
    },
    {
      "cell_type": "code",
      "execution_count": 10,
      "metadata": {
        "id": "88xPiUnm0tAd"
      },
      "outputs": [],
      "source": [
        "# fix random seed\n",
        "def same_seeds(seed):\n",
        "    torch.manual_seed(seed)\n",
        "    if torch.cuda.is_available():\n",
        "        torch.cuda.manual_seed(seed)\n",
        "        torch.cuda.manual_seed_all(seed)  \n",
        "    np.random.seed(seed)  \n",
        "    torch.backends.cudnn.benchmark = False\n",
        "    torch.backends.cudnn.deterministic = True"
      ]
    },
    {
      "cell_type": "markdown",
      "metadata": {
        "id": "KbBcBXkSp6RA"
      },
      "source": [
        "Feel free to change the training parameters here."
      ]
    },
    {
      "cell_type": "code",
      "source": [
        "def cal_loss(self, pred, target):\n",
        "        ''' Calculate loss '''\n",
        "        regularization_loss = 0\n",
        "        for param in model.parameters():\n",
        "        # TODO: you may implement L1/L2 regularization here\n",
        "        # 使用L2正则项\n",
        "            # regularization_loss += torch.sum(abs(param))\n",
        "            regularization_loss += torch.sum(param ** 2)\n",
        "        return self.criterion(pred, target) + 0.00075 * regularization_loss"
      ],
      "metadata": {
        "id": "j5vaSSt_e1rn"
      },
      "execution_count": 11,
      "outputs": []
    },
    {
      "cell_type": "code",
      "execution_count": 12,
      "metadata": {
        "colab": {
          "base_uri": "https://localhost:8080/"
        },
        "id": "QTp3ZXg1yO9Y",
        "outputId": "8867b5f8-f67b-40a2-84ff-c9d2ade3f958"
      },
      "outputs": [
        {
          "output_type": "stream",
          "name": "stdout",
          "text": [
            "DEVICE: cuda\n"
          ]
        }
      ],
      "source": [
        " # fix random seed for reproducibility\n",
        "same_seeds(0)\n",
        "\n",
        "# get device \n",
        "device = get_device()\n",
        "print(f'DEVICE: {device}')\n",
        "\n",
        "# training parameters\n",
        "num_epoch = 40               # number of training epoch\n",
        "learning_rate = 0.001       # learning rate\n",
        "#momentum = 0.9               # momentum\n",
        "weight_decay = 1e-3\n",
        "\n",
        "# the path where checkpoint saved\n",
        "model_path = './model.ckpt'\n",
        "\n",
        "# create model, define a loss function, and optimizer\n",
        "model = Classifier().to(device)\n",
        "criterion = nn.CrossEntropyLoss() \n",
        "optimizer = torch.optim.AdamW(model.parameters(), lr=learning_rate, weight_decay=weight_decay)\n",
        "#optimizer = torch.optim.SGD(model.parameters(), lr=learning_rate, momentum=momentum)"
      ]
    },
    {
      "cell_type": "markdown",
      "source": [
        "* Ref\n",
        "  1. \"Usually,weight decay is very small. If your learning rate is 1e-3 (0.001), you can set you weight decay as 1e-6 or 1e-7 like that.\" https://qr.ae/prOb3j\n",
        "  2. [AdamW, 60epoch](https://ithelp.ithome.com.tw/articles/10306518)\n"
      ],
      "metadata": {
        "id": "9S2v_0CggmLS"
      }
    },
    {
      "cell_type": "code",
      "execution_count": 13,
      "metadata": {
        "colab": {
          "base_uri": "https://localhost:8080/"
        },
        "id": "CdMWsBs7zzNs",
        "outputId": "dd0ff6b6-d6c8-40b6-bf34-a80fa3ec10df"
      },
      "outputs": [
        {
          "output_type": "stream",
          "name": "stdout",
          "text": [
            "[001/040] Train Acc: 0.664312 Loss: 1.055290 | Val Acc: 0.706469 loss: 0.903901\n",
            "saving model with acc 0.706\n",
            "[002/040] Train Acc: 0.727644 Loss: 0.822620 | Val Acc: 0.720443 loss: 0.851102\n",
            "saving model with acc 0.720\n",
            "[003/040] Train Acc: 0.755390 Loss: 0.726136 | Val Acc: 0.725850 loss: 0.833485\n",
            "saving model with acc 0.726\n",
            "[004/040] Train Acc: 0.777146 Loss: 0.654197 | Val Acc: 0.729702 loss: 0.840183\n",
            "saving model with acc 0.730\n",
            "[005/040] Train Acc: 0.796324 Loss: 0.593033 | Val Acc: 0.724122 loss: 0.877768\n",
            "[006/040] Train Acc: 0.811895 Loss: 0.541789 | Val Acc: 0.726795 loss: 0.892032\n",
            "[007/040] Train Acc: 0.825917 Loss: 0.498497 | Val Acc: 0.723746 loss: 0.921988\n",
            "[008/040] Train Acc: 0.837566 Loss: 0.461181 | Val Acc: 0.721846 loss: 0.949601\n",
            "[009/040] Train Acc: 0.847483 Loss: 0.430060 | Val Acc: 0.716297 loss: 0.992769\n",
            "[010/040] Train Acc: 0.857050 Loss: 0.402107 | Val Acc: 0.712811 loss: 1.039290\n",
            "[011/040] Train Acc: 0.865170 Loss: 0.378639 | Val Acc: 0.712821 loss: 1.061526\n",
            "[012/040] Train Acc: 0.872028 Loss: 0.357474 | Val Acc: 0.713674 loss: 1.098068\n",
            "[013/040] Train Acc: 0.878158 Loss: 0.338936 | Val Acc: 0.711998 loss: 1.116045\n",
            "[014/040] Train Acc: 0.884342 Loss: 0.321507 | Val Acc: 0.709274 loss: 1.157874\n",
            "[015/040] Train Acc: 0.888681 Loss: 0.307710 | Val Acc: 0.708613 loss: 1.190825\n",
            "[016/040] Train Acc: 0.893569 Loss: 0.293823 | Val Acc: 0.709711 loss: 1.214952\n",
            "[017/040] Train Acc: 0.897438 Loss: 0.282471 | Val Acc: 0.706408 loss: 1.245879\n",
            "[018/040] Train Acc: 0.901444 Loss: 0.270366 | Val Acc: 0.704985 loss: 1.265847\n",
            "[019/040] Train Acc: 0.904821 Loss: 0.260972 | Val Acc: 0.705087 loss: 1.301934\n",
            "[020/040] Train Acc: 0.908168 Loss: 0.251471 | Val Acc: 0.704497 loss: 1.328426\n",
            "[021/040] Train Acc: 0.911346 Loss: 0.242930 | Val Acc: 0.706103 loss: 1.359141\n",
            "[022/040] Train Acc: 0.914010 Loss: 0.235068 | Val Acc: 0.701428 loss: 1.379518\n",
            "[023/040] Train Acc: 0.916179 Loss: 0.228436 | Val Acc: 0.701377 loss: 1.404189\n",
            "[024/040] Train Acc: 0.919622 Loss: 0.220334 | Val Acc: 0.698186 loss: 1.433624\n",
            "[025/040] Train Acc: 0.920778 Loss: 0.216018 | Val Acc: 0.701001 loss: 1.446187\n",
            "[026/040] Train Acc: 0.922983 Loss: 0.209443 | Val Acc: 0.698816 loss: 1.478695\n",
            "[027/040] Train Acc: 0.925044 Loss: 0.204243 | Val Acc: 0.696966 loss: 1.498062\n",
            "[028/040] Train Acc: 0.926531 Loss: 0.198598 | Val Acc: 0.698227 loss: 1.493582\n",
            "[029/040] Train Acc: 0.928880 Loss: 0.192694 | Val Acc: 0.697566 loss: 1.551240\n",
            "[030/040] Train Acc: 0.930402 Loss: 0.189086 | Val Acc: 0.697424 loss: 1.584362\n",
            "[031/040] Train Acc: 0.931643 Loss: 0.185706 | Val Acc: 0.697779 loss: 1.557402\n",
            "[032/040] Train Acc: 0.933332 Loss: 0.180624 | Val Acc: 0.698430 loss: 1.581471\n",
            "[033/040] Train Acc: 0.934395 Loss: 0.177795 | Val Acc: 0.696824 loss: 1.619649\n",
            "[034/040] Train Acc: 0.936773 Loss: 0.172574 | Val Acc: 0.698105 loss: 1.601074\n",
            "[035/040] Train Acc: 0.937392 Loss: 0.170221 | Val Acc: 0.695818 loss: 1.651201\n",
            "[036/040] Train Acc: 0.938304 Loss: 0.167121 | Val Acc: 0.694802 loss: 1.667331\n",
            "[037/040] Train Acc: 0.939850 Loss: 0.163100 | Val Acc: 0.695838 loss: 1.680388\n",
            "[038/040] Train Acc: 0.940772 Loss: 0.160578 | Val Acc: 0.696661 loss: 1.682177\n",
            "[039/040] Train Acc: 0.941498 Loss: 0.158711 | Val Acc: 0.696062 loss: 1.725574\n",
            "[040/040] Train Acc: 0.942853 Loss: 0.155071 | Val Acc: 0.695045 loss: 1.705810\n"
          ]
        }
      ],
      "source": [
        "# start training\n",
        "\n",
        "best_acc = 0.0\n",
        "for epoch in range(num_epoch):\n",
        "    train_acc = 0.0\n",
        "    train_loss = 0.0\n",
        "    val_acc = 0.0\n",
        "    val_loss = 0.0\n",
        "\n",
        "    # training\n",
        "    model.train() # set the model to training mode\n",
        "    for i, data in enumerate(train_loader):\n",
        "        inputs, labels = data\n",
        "        inputs, labels = inputs.to(device), labels.to(device)\n",
        "        optimizer.zero_grad() \n",
        "        outputs = model(inputs) \n",
        "        batch_loss = criterion(outputs, labels)\n",
        "        _, train_pred = torch.max(outputs, 1) # get the index of the class with the highest probability\n",
        "        batch_loss.backward() \n",
        "        optimizer.step() \n",
        "\n",
        "        train_acc += (train_pred.cpu() == labels.cpu()).sum().item()\n",
        "        train_loss += batch_loss.item()\n",
        "\n",
        "    # validation\n",
        "    if len(val_set) > 0:\n",
        "        model.eval() # set the model to evaluation mode\n",
        "        with torch.no_grad():\n",
        "            for i, data in enumerate(val_loader):\n",
        "                inputs, labels = data\n",
        "                inputs, labels = inputs.to(device), labels.to(device)\n",
        "                outputs = model(inputs)\n",
        "                batch_loss = criterion(outputs, labels) \n",
        "                _, val_pred = torch.max(outputs, 1) \n",
        "            \n",
        "                val_acc += (val_pred.cpu() == labels.cpu()).sum().item() # get the index of the class with the highest probability\n",
        "                val_loss += batch_loss.item()\n",
        "\n",
        "            print('[{:03d}/{:03d}] Train Acc: {:3.6f} Loss: {:3.6f} | Val Acc: {:3.6f} loss: {:3.6f}'.format(\n",
        "                epoch + 1, num_epoch, train_acc/len(train_set), train_loss/len(train_loader), val_acc/len(val_set), val_loss/len(val_loader)\n",
        "            ))\n",
        "\n",
        "            # if the model improves, save a checkpoint at this epoch\n",
        "            if val_acc > best_acc:\n",
        "                best_acc = val_acc\n",
        "                torch.save(model.state_dict(), model_path)\n",
        "                print('saving model with acc {:.3f}'.format(best_acc/len(val_set)))\n",
        "    else:\n",
        "        print('[{:03d}/{:03d}] Train Acc: {:3.6f} Loss: {:3.6f}'.format(\n",
        "            epoch + 1, num_epoch, train_acc/len(train_set), train_loss/len(train_loader)\n",
        "        ))\n",
        "\n",
        "# if not validating, save the last epoch\n",
        "if len(val_set) == 0:\n",
        "    torch.save(model.state_dict(), model_path)\n",
        "    print('saving model at last epoch')\n"
      ]
    },
    {
      "cell_type": "markdown",
      "metadata": {
        "id": "1Hi7jTn3PX-m"
      },
      "source": [
        "## Testing"
      ]
    },
    {
      "cell_type": "markdown",
      "metadata": {
        "id": "NfUECMFCn5VG"
      },
      "source": [
        "Create a testing dataset, and load model from the saved checkpoint."
      ]
    },
    {
      "cell_type": "code",
      "execution_count": 14,
      "metadata": {
        "colab": {
          "base_uri": "https://localhost:8080/"
        },
        "id": "1PKjtAScPWtr",
        "outputId": "dea9acc4-e2c6-465d-88be-dfd84f8b9f2f"
      },
      "outputs": [
        {
          "output_type": "execute_result",
          "data": {
            "text/plain": [
              "<All keys matched successfully>"
            ]
          },
          "metadata": {},
          "execution_count": 14
        }
      ],
      "source": [
        "# create testing dataset\n",
        "test_set = TIMITDataset(test, None)\n",
        "test_loader = DataLoader(test_set, batch_size=BATCH_SIZE, shuffle=False)\n",
        "\n",
        "# create model and load weights from checkpoint\n",
        "model = Classifier().to(device)\n",
        "model.load_state_dict(torch.load(model_path))"
      ]
    },
    {
      "cell_type": "markdown",
      "metadata": {
        "id": "940TtCCdoYd0"
      },
      "source": [
        "Make prediction."
      ]
    },
    {
      "cell_type": "code",
      "execution_count": 15,
      "metadata": {
        "id": "84HU5GGjPqR0"
      },
      "outputs": [],
      "source": [
        "predict = []\n",
        "model.eval() # set the model to evaluation mode\n",
        "with torch.no_grad():\n",
        "    for i, data in enumerate(test_loader):\n",
        "        inputs = data\n",
        "        inputs = inputs.to(device)\n",
        "        outputs = model(inputs)\n",
        "        _, test_pred = torch.max(outputs, 1) # get the index of the class with the highest probability\n",
        "\n",
        "        for y in test_pred.cpu().numpy():\n",
        "            predict.append(y)"
      ]
    },
    {
      "cell_type": "markdown",
      "metadata": {
        "id": "AWDf_C-omElb"
      },
      "source": [
        "Write prediction to a CSV file.\n",
        "\n",
        "After finish running this block, download the file `prediction.csv` from the files section on the left-hand side and submit it to Kaggle."
      ]
    },
    {
      "cell_type": "code",
      "execution_count": 16,
      "metadata": {
        "id": "GuljYSPHcZir"
      },
      "outputs": [],
      "source": [
        "with open('prediction.csv', 'w') as f:\n",
        "    f.write('Id,Class\\n')\n",
        "    for i, y in enumerate(predict):\n",
        "        f.write('{},{}\\n'.format(i, y))"
      ]
    }
  ],
  "metadata": {
    "accelerator": "GPU",
    "colab": {
      "provenance": [],
      "include_colab_link": true
    },
    "gpuClass": "standard",
    "kernelspec": {
      "display_name": "Python 3",
      "name": "python3"
    }
  },
  "nbformat": 4,
  "nbformat_minor": 0
}