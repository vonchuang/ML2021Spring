{
  "cells": [
    {
      "cell_type": "markdown",
      "metadata": {
        "id": "view-in-github",
        "colab_type": "text"
      },
      "source": [
        "<a href=\"https://colab.research.google.com/github/vonchuang/ML2021Spring/blob/main/MLSpring2021_HW2_1.ipynb\" target=\"_parent\"><img src=\"https://colab.research.google.com/assets/colab-badge.svg\" alt=\"Open In Colab\"/></a>"
      ]
    },
    {
      "cell_type": "markdown",
      "metadata": {
        "id": "OYlaRwNu7ojq"
      },
      "source": [
        "# **Homework 2-1 Phoneme Classification**\n",
        "\n",
        "* Slides: https://speech.ee.ntu.edu.tw/~hylee/ml/ml2021-course-data/hw/HW02/HW02.pdf\n",
        "* Video (Chinese): https://youtu.be/PdjXnQbu2zo\n",
        "* Video (English): https://youtu.be/ESRr-VCykBs\n"
      ]
    },
    {
      "cell_type": "markdown",
      "metadata": {
        "id": "emUd7uS7crTz"
      },
      "source": [
        "## The DARPA TIMIT Acoustic-Phonetic Continuous Speech Corpus (TIMIT)\n",
        "The TIMIT corpus of reading speech has been designed to provide speech data for the acquisition of acoustic-phonetic knowledge and for the development and evaluation of automatic speech recognition systems.\n",
        "\n",
        "This homework is a multiclass classification task, \n",
        "we are going to train a deep neural network classifier to predict the phonemes for each frame from the speech corpus TIMIT.\n",
        "\n",
        "link: https://academictorrents.com/details/34e2b78745138186976cbc27939b1b34d18bd5b3"
      ]
    },
    {
      "cell_type": "markdown",
      "metadata": {
        "id": "KVUGfWTo7_Oj"
      },
      "source": [
        "## Download Data\n",
        "Download data from google drive, then unzip it.\n",
        "\n",
        "You should have `timit_11/train_11.npy`, `timit_11/train_label_11.npy`, and `timit_11/test_11.npy` after running this block.<br><br>\n",
        "`timit_11/`\n",
        "- `train_11.npy`: training data<br>\n",
        "- `train_label_11.npy`: training label<br>\n",
        "- `test_11.npy`:  testing data<br><br>\n",
        "\n",
        "**notes: if the google drive link is dead, you can download the data directly from Kaggle and upload it to the workspace**\n",
        "\n",
        "\n"
      ]
    },
    {
      "cell_type": "code",
      "execution_count": 14,
      "metadata": {
        "id": "XYJD18bulf-H"
      },
      "outputs": [],
      "source": [
        "#from google.colab import drive # Import a library named google.colab\n",
        "#drive.mount('/content/drive', force_remount=True) # mount the content to the directory `/content/drive`"
      ]
    },
    {
      "cell_type": "code",
      "execution_count": 15,
      "metadata": {
        "id": "OzkiMEcC3Foq"
      },
      "outputs": [],
      "source": [
        "#!cp /content/drive/MyDrive/ML2021/data.zip ./\n",
        "#!gdown --no-cookies --id '1HPkcmQmFGu-3OknddKIa5dNDsR05lIQR' --output data.zip\n",
        "#!unzip data.zip\n",
        "#!ls "
      ]
    },
    {
      "cell_type": "markdown",
      "metadata": {
        "id": "_L_4anls8Drv"
      },
      "source": [
        "## Preparing Data\n",
        "Load the training and testing data from the `.npy` file (NumPy array)."
      ]
    },
    {
      "cell_type": "code",
      "execution_count": 16,
      "metadata": {
        "colab": {
          "base_uri": "https://localhost:8080/"
        },
        "id": "IJjLT8em-y9G",
        "outputId": "179ee2f6-cc90-4087-f238-cdce08225401"
      },
      "outputs": [
        {
          "output_type": "stream",
          "name": "stdout",
          "text": [
            "Loading data ...\n",
            "Size of training data: (1229932, 429)\n",
            "Size of testing data: (451552, 429)\n"
          ]
        }
      ],
      "source": [
        "import numpy as np\n",
        "\n",
        "print('Loading data ...')\n",
        "\n",
        "data_root='./timit_11/'\n",
        "train = np.load(data_root + 'train_11.npy')\n",
        "train_label = np.load(data_root + 'train_label_11.npy')\n",
        "test = np.load(data_root + 'test_11.npy')\n",
        "\n",
        "print('Size of training data: {}'.format(train.shape))\n",
        "print('Size of testing data: {}'.format(test.shape))"
      ]
    },
    {
      "cell_type": "markdown",
      "metadata": {
        "id": "us5XW_x6udZQ"
      },
      "source": [
        "## Create Dataset"
      ]
    },
    {
      "cell_type": "code",
      "execution_count": 17,
      "metadata": {
        "id": "Fjf5EcmJtf4e"
      },
      "outputs": [],
      "source": [
        "import torch\n",
        "from torch.utils.data import Dataset\n",
        "\n",
        "class TIMITDataset(Dataset):\n",
        "    def __init__(self, X, y=None):\n",
        "        self.data = torch.from_numpy(X).float()\n",
        "        if y is not None:\n",
        "            y = y.astype(np.int)\n",
        "            self.label = torch.LongTensor(y)\n",
        "        else:\n",
        "            self.label = None\n",
        "\n",
        "    def __getitem__(self, idx):\n",
        "        if self.label is not None:\n",
        "            return self.data[idx], self.label[idx]\n",
        "        else:\n",
        "            return self.data[idx]\n",
        "\n",
        "    def __len__(self):\n",
        "        return len(self.data)\n"
      ]
    },
    {
      "cell_type": "markdown",
      "metadata": {
        "id": "otIC6WhGeh9v"
      },
      "source": [
        "Split the labeled data into a training set and a validation set, you can modify the variable `VAL_RATIO` to change the ratio of validation data."
      ]
    },
    {
      "cell_type": "code",
      "execution_count": 18,
      "metadata": {
        "colab": {
          "base_uri": "https://localhost:8080/"
        },
        "id": "sYqi_lAuvC59",
        "outputId": "7223e57b-c782-4a17-b1d9-b33c6c26e8ce"
      },
      "outputs": [
        {
          "output_type": "stream",
          "name": "stdout",
          "text": [
            "Size of training set: (1106938, 429)\n",
            "Size of validation set: (122994, 429)\n"
          ]
        }
      ],
      "source": [
        "#from sklearn.preprocessing import StandardScaler\n",
        "\n",
        "#scaler = StandardScaler().fit(train)\n",
        "#train = scaler.transform(train)\n",
        "\n",
        "VAL_RATIO = 0.1\n",
        "\n",
        "percent = int(train.shape[0] * (1 - VAL_RATIO))\n",
        "train_x, train_y, val_x, val_y = train[:percent], train_label[:percent], train[percent:], train_label[percent:]\n",
        "print('Size of training set: {}'.format(train_x.shape))\n",
        "print('Size of validation set: {}'.format(val_x.shape))"
      ]
    },
    {
      "cell_type": "markdown",
      "metadata": {
        "id": "nbCfclUIgMTX"
      },
      "source": [
        "Create a data loader from the dataset, feel free to tweak the variable `BATCH_SIZE` here."
      ]
    },
    {
      "cell_type": "code",
      "execution_count": 19,
      "metadata": {
        "colab": {
          "base_uri": "https://localhost:8080/"
        },
        "id": "RUCbQvqJurYc",
        "outputId": "f0fc1850-a6e9-4561-a28e-d1b6a2b875d0"
      },
      "outputs": [
        {
          "output_type": "stream",
          "name": "stderr",
          "text": [
            "<ipython-input-17-f6af567917fe>:8: DeprecationWarning: `np.int` is a deprecated alias for the builtin `int`. To silence this warning, use `int` by itself. Doing this will not modify any behavior and is safe. When replacing `np.int`, you may wish to use e.g. `np.int64` or `np.int32` to specify the precision. If you wish to review your current use, check the release note link for additional information.\n",
            "Deprecated in NumPy 1.20; for more details and guidance: https://numpy.org/devdocs/release/1.20.0-notes.html#deprecations\n",
            "  y = y.astype(np.int)\n"
          ]
        }
      ],
      "source": [
        "BATCH_SIZE = 128\n",
        "\n",
        "from torch.utils.data import DataLoader\n",
        "\n",
        "train_set = TIMITDataset(train_x, train_y)\n",
        "val_set = TIMITDataset(val_x, val_y)\n",
        "train_loader = DataLoader(train_set, batch_size=BATCH_SIZE, shuffle=True) #only shuffle the training data\n",
        "val_loader = DataLoader(val_set, batch_size=BATCH_SIZE, shuffle=False)"
      ]
    },
    {
      "cell_type": "markdown",
      "metadata": {
        "id": "_SY7X0lUgb50"
      },
      "source": [
        "Cleanup the unneeded variables to save memory.<br>\n",
        "\n",
        "**notes: if you need to use these variables later, then you may remove this block or clean up unneeded variables later<br>the data size is quite huge, so be aware of memory usage in colab**"
      ]
    },
    {
      "cell_type": "code",
      "execution_count": 20,
      "metadata": {
        "colab": {
          "base_uri": "https://localhost:8080/"
        },
        "id": "y8rzkGraeYeN",
        "outputId": "8de60919-3c5a-4e1c-f2eb-a0e34b5ccc2f"
      },
      "outputs": [
        {
          "output_type": "execute_result",
          "data": {
            "text/plain": [
              "0"
            ]
          },
          "metadata": {},
          "execution_count": 20
        }
      ],
      "source": [
        "import gc\n",
        "\n",
        "del train, train_label, train_x, train_y, val_x, val_y\n",
        "gc.collect()"
      ]
    },
    {
      "cell_type": "markdown",
      "metadata": {
        "id": "IRqKNvNZwe3V"
      },
      "source": [
        "## Create Model"
      ]
    },
    {
      "cell_type": "markdown",
      "metadata": {
        "id": "FYr1ng5fh9pA"
      },
      "source": [
        "Define model architecture, you are encouraged to change and experiment with the model architecture."
      ]
    },
    {
      "cell_type": "markdown",
      "source": [
        "* ref: [深度學習基礎系列（九）| Dropout VS Batch Normalization? 是時候放棄Dropout了](https://www.796t.com/content/1542171910.html)\n",
        "    \n",
        "    實測：dropout(0.2) 0.73 -> no dropout 0.71"
      ],
      "metadata": {
        "id": "i-wE5hsC3zed"
      }
    },
    {
      "cell_type": "code",
      "execution_count": 21,
      "metadata": {
        "id": "lbZrwT6Ny0XL"
      },
      "outputs": [],
      "source": [
        "import torch\n",
        "import torch.nn as nn\n",
        "\n",
        "class Classifier(nn.Module):\n",
        "    def __init__(self):\n",
        "        super(Classifier, self).__init__()\n",
        "        self.layer1 = nn.Linear(429, 1287)\n",
        "        self.layer2 = nn.Linear(1287, 858)\n",
        "        self.layer3 = nn.Linear(858, 429)\n",
        "        self.layer4 = nn.Linear(429, 195)\n",
        "        self.out = nn.Linear(195, 39) \n",
        "        self.batch_norm_1 = nn.BatchNorm1d(1287)#使用BN，加速模型训练\n",
        "        self.batch_norm_2 = nn.BatchNorm1d(858)\n",
        "        self.batch_norm_3 = nn.BatchNorm1d(429)\n",
        "        self.batch_norm_4 = nn.BatchNorm1d(195)\n",
        "        self.drop_out = nn.Dropout(p=0.2)#使用Dropout，减小过拟合，注意不能在BN之前\n",
        "\n",
        "        #self.act_fn = nn.Sigmoid()\n",
        "        self.act_fn = nn.LeakyReLU()\n",
        "\n",
        "    def forward(self, x):\n",
        "        x = self.layer1(x)\n",
        "        x = self.batch_norm_1(x)\n",
        "        x = self.act_fn(x)\n",
        "        x = self.drop_out(x)\n",
        "\n",
        "        x = self.layer2(x)\n",
        "        x = self.batch_norm_2(x)\n",
        "        x = self.act_fn(x)\n",
        "        x = self.drop_out(x)\n",
        "\n",
        "        x = self.layer3(x)\n",
        "        x = self.batch_norm_3(x)\n",
        "        x = self.act_fn(x)\n",
        "        x = self.drop_out(x)\n",
        "\n",
        "        x = self.layer4(x)\n",
        "        x = self.batch_norm_4(x)\n",
        "        x = self.act_fn(x)\n",
        "        x = self.drop_out(x)\n",
        "\n",
        "        x = self.out(x)\n",
        "        \n",
        "        return x"
      ]
    },
    {
      "cell_type": "markdown",
      "metadata": {
        "id": "VRYciXZvPbYh"
      },
      "source": [
        "## Training"
      ]
    },
    {
      "cell_type": "code",
      "execution_count": 22,
      "metadata": {
        "id": "y114Vmm3Ja6o"
      },
      "outputs": [],
      "source": [
        "#check device\n",
        "def get_device():\n",
        "  return 'cuda' if torch.cuda.is_available() else 'cpu'"
      ]
    },
    {
      "cell_type": "markdown",
      "metadata": {
        "id": "sEX-yjHjhGuH"
      },
      "source": [
        "Fix random seeds for reproducibility."
      ]
    },
    {
      "cell_type": "code",
      "execution_count": 23,
      "metadata": {
        "id": "88xPiUnm0tAd"
      },
      "outputs": [],
      "source": [
        "# fix random seed\n",
        "def same_seeds(seed):\n",
        "    torch.manual_seed(seed)\n",
        "    if torch.cuda.is_available():\n",
        "        torch.cuda.manual_seed(seed)\n",
        "        torch.cuda.manual_seed_all(seed)  \n",
        "    np.random.seed(seed)  \n",
        "    torch.backends.cudnn.benchmark = False\n",
        "    torch.backends.cudnn.deterministic = True"
      ]
    },
    {
      "cell_type": "markdown",
      "metadata": {
        "id": "KbBcBXkSp6RA"
      },
      "source": [
        "Feel free to change the training parameters here."
      ]
    },
    {
      "cell_type": "code",
      "source": [
        "def cal_loss(self, pred, target):\n",
        "        ''' Calculate loss '''\n",
        "        regularization_loss = 0\n",
        "        for param in model.parameters():\n",
        "        # TODO: you may implement L1/L2 regularization here\n",
        "        # 使用L2正则项\n",
        "            # regularization_loss += torch.sum(abs(param))\n",
        "            regularization_loss += torch.sum(param ** 2)\n",
        "        return self.criterion(pred, target) + 0.00075 * regularization_loss"
      ],
      "metadata": {
        "id": "j5vaSSt_e1rn"
      },
      "execution_count": 24,
      "outputs": []
    },
    {
      "cell_type": "code",
      "execution_count": 25,
      "metadata": {
        "colab": {
          "base_uri": "https://localhost:8080/"
        },
        "id": "QTp3ZXg1yO9Y",
        "outputId": "43466828-3727-4bca-9a5e-e1a4c489d422"
      },
      "outputs": [
        {
          "output_type": "stream",
          "name": "stdout",
          "text": [
            "DEVICE: cuda\n"
          ]
        }
      ],
      "source": [
        " # fix random seed for reproducibility\n",
        "same_seeds(0)\n",
        "\n",
        "# get device \n",
        "device = get_device()\n",
        "print(f'DEVICE: {device}')\n",
        "\n",
        "# training parameters\n",
        "num_epoch = 60               # number of training epoch\n",
        "learning_rate = 0.001       # learning rate\n",
        "momentum = 0.9               # momentum\n",
        "weight_decay = 1e-3\n",
        "\n",
        "# the path where checkpoint saved\n",
        "model_path = './model.ckpt'\n",
        "\n",
        "# create model, define a loss function, and optimizer\n",
        "model = Classifier().to(device)\n",
        "criterion = nn.CrossEntropyLoss() \n",
        "#optimizer = torch.optim.AdamW(model.parameters(), lr=learning_rate, weight_decay=weight_decay)\n",
        "optimizer = torch.optim.SGD(model.parameters(), lr=learning_rate, momentum=momentum)"
      ]
    },
    {
      "cell_type": "markdown",
      "source": [
        "* Ref\n",
        "  1. \"Usually,weight decay is very small. If your learning rate is 1e-3 (0.001), you can set you weight decay as 1e-6 or 1e-7 like that.\" https://qr.ae/prOb3j\n",
        "  2. [AdamW, 60epoch](https://ithelp.ithome.com.tw/articles/10306518)\n",
        "  3. [Order](https://stackoverflow.com/a/40295999):\n",
        "    \n",
        "    -> CONV/FC -> BatchNorm -> ReLu(or other activation) -> Dropout -> CONV/FC ->\n",
        "  4. [Learning rate schedule](https://hackmd.io/@Hong-Jia/H1hmbNr1d#%E4%B8%80-Using-learning-rate-schedule): CyclicLR\n",
        "  5. (X)[Lookahead](https://medium.com/ai-blog-tw/deep-learning-%E7%82%BA%E4%BB%80%E9%BA%BCadam%E5%B8%B8%E5%B8%B8%E6%89%93%E4%B8%8D%E9%81%8Esgd-%E7%99%A5%E7%B5%90%E9%BB%9E%E8%88%87%E6%94%B9%E5%96%84%E6%96%B9%E6%A1%88-fd514176f805) :[implement](https://github.com/lonePatient/lookahead_pytorch)\n",
        "    不用，因 epoch 後期差距好像不大\n",
        "  6. [為什麼Adam常常打不過SGD？癥結點與改善方案](https://medium.com/ai-blog-tw/deep-learning-%E7%82%BA%E4%BB%80%E9%BA%BCadam%E5%B8%B8%E5%B8%B8%E6%89%93%E4%B8%8D%E9%81%8Esgd-%E7%99%A5%E7%B5%90%E9%BB%9E%E8%88%87%E6%94%B9%E5%96%84%E6%96%B9%E6%A1%88-fd514176f805)\n",
        "    * Adam 的 Test 和 Train 結果差距較大\n"
      ],
      "metadata": {
        "id": "9S2v_0CggmLS"
      }
    },
    {
      "cell_type": "code",
      "execution_count": 26,
      "metadata": {
        "colab": {
          "base_uri": "https://localhost:8080/"
        },
        "id": "CdMWsBs7zzNs",
        "outputId": "5aab599d-8b6b-42f3-964e-7ba92c575d6e"
      },
      "outputs": [
        {
          "output_type": "stream",
          "name": "stdout",
          "text": [
            "[001/060] Train Acc: 0.572626 Loss: 1.420235 | Val Acc: 0.686440 loss: 0.989965\n",
            "saving model with acc 0.686\n",
            "[002/060] Train Acc: 0.644965 Loss: 1.127647 | Val Acc: 0.703937 loss: 0.917528\n",
            "saving model with acc 0.704\n",
            "[003/060] Train Acc: 0.665208 Loss: 1.054277 | Val Acc: 0.714612 loss: 0.878827\n",
            "saving model with acc 0.715\n",
            "[004/060] Train Acc: 0.677234 Loss: 1.008140 | Val Acc: 0.721962 loss: 0.850313\n",
            "saving model with acc 0.722\n",
            "[005/060] Train Acc: 0.687269 Loss: 0.973286 | Val Acc: 0.727206 loss: 0.831931\n",
            "saving model with acc 0.727\n",
            "[006/060] Train Acc: 0.694622 Loss: 0.946228 | Val Acc: 0.729312 loss: 0.818392\n",
            "saving model with acc 0.729\n",
            "[007/060] Train Acc: 0.701243 Loss: 0.923460 | Val Acc: 0.733434 loss: 0.806708\n",
            "saving model with acc 0.733\n",
            "[008/060] Train Acc: 0.706006 Loss: 0.902987 | Val Acc: 0.735597 loss: 0.794240\n",
            "saving model with acc 0.736\n",
            "[009/060] Train Acc: 0.711137 Loss: 0.886120 | Val Acc: 0.738239 loss: 0.786800\n",
            "saving model with acc 0.738\n",
            "[010/060] Train Acc: 0.715431 Loss: 0.869620 | Val Acc: 0.740052 loss: 0.782931\n",
            "saving model with acc 0.740\n",
            "[011/060] Train Acc: 0.720058 Loss: 0.853393 | Val Acc: 0.741630 loss: 0.774947\n",
            "saving model with acc 0.742\n",
            "[012/060] Train Acc: 0.723891 Loss: 0.840498 | Val Acc: 0.743922 loss: 0.769409\n",
            "saving model with acc 0.744\n",
            "[013/060] Train Acc: 0.726668 Loss: 0.827764 | Val Acc: 0.744906 loss: 0.766268\n",
            "saving model with acc 0.745\n",
            "[014/060] Train Acc: 0.730211 Loss: 0.817196 | Val Acc: 0.745150 loss: 0.761590\n",
            "saving model with acc 0.745\n",
            "[015/060] Train Acc: 0.733274 Loss: 0.805223 | Val Acc: 0.747370 loss: 0.760674\n",
            "saving model with acc 0.747\n",
            "[016/060] Train Acc: 0.736272 Loss: 0.795454 | Val Acc: 0.746866 loss: 0.758875\n",
            "[017/060] Train Acc: 0.739205 Loss: 0.784739 | Val Acc: 0.747833 loss: 0.754922\n",
            "saving model with acc 0.748\n",
            "[018/060] Train Acc: 0.741384 Loss: 0.776713 | Val Acc: 0.749289 loss: 0.749985\n",
            "saving model with acc 0.749\n",
            "[019/060] Train Acc: 0.744321 Loss: 0.766656 | Val Acc: 0.749321 loss: 0.749022\n",
            "saving model with acc 0.749\n",
            "[020/060] Train Acc: 0.746577 Loss: 0.758656 | Val Acc: 0.748768 loss: 0.748458\n",
            "[021/060] Train Acc: 0.748651 Loss: 0.750461 | Val Acc: 0.751224 loss: 0.747237\n",
            "saving model with acc 0.751\n",
            "[022/060] Train Acc: 0.751524 Loss: 0.741985 | Val Acc: 0.750565 loss: 0.747648\n",
            "[023/060] Train Acc: 0.753032 Loss: 0.735278 | Val Acc: 0.750305 loss: 0.748148\n",
            "[024/060] Train Acc: 0.755276 Loss: 0.728026 | Val Acc: 0.752386 loss: 0.744604\n",
            "saving model with acc 0.752\n",
            "[025/060] Train Acc: 0.757717 Loss: 0.719904 | Val Acc: 0.751191 loss: 0.748899\n",
            "[026/060] Train Acc: 0.758934 Loss: 0.715105 | Val Acc: 0.752866 loss: 0.742409\n",
            "saving model with acc 0.753\n",
            "[027/060] Train Acc: 0.760763 Loss: 0.708225 | Val Acc: 0.753630 loss: 0.741806\n",
            "saving model with acc 0.754\n",
            "[028/060] Train Acc: 0.762554 Loss: 0.701709 | Val Acc: 0.752362 loss: 0.744250\n",
            "[029/060] Train Acc: 0.764013 Loss: 0.696077 | Val Acc: 0.753134 loss: 0.745803\n",
            "[030/060] Train Acc: 0.765982 Loss: 0.690670 | Val Acc: 0.752216 loss: 0.748076\n",
            "[031/060] Train Acc: 0.767680 Loss: 0.684448 | Val Acc: 0.752386 loss: 0.746389\n",
            "[032/060] Train Acc: 0.769525 Loss: 0.679261 | Val Acc: 0.753638 loss: 0.746704\n",
            "saving model with acc 0.754\n",
            "[033/060] Train Acc: 0.771083 Loss: 0.673474 | Val Acc: 0.753744 loss: 0.747217\n",
            "saving model with acc 0.754\n",
            "[034/060] Train Acc: 0.772645 Loss: 0.668556 | Val Acc: 0.753077 loss: 0.751441\n",
            "[035/060] Train Acc: 0.773551 Loss: 0.665153 | Val Acc: 0.752923 loss: 0.749502\n",
            "[036/060] Train Acc: 0.774836 Loss: 0.659862 | Val Acc: 0.754638 loss: 0.748698\n",
            "saving model with acc 0.755\n",
            "[037/060] Train Acc: 0.775950 Loss: 0.655411 | Val Acc: 0.752777 loss: 0.751270\n",
            "[038/060] Train Acc: 0.777352 Loss: 0.650964 | Val Acc: 0.754159 loss: 0.751373\n",
            "[039/060] Train Acc: 0.778652 Loss: 0.646989 | Val Acc: 0.754354 loss: 0.750202\n",
            "[040/060] Train Acc: 0.779894 Loss: 0.643646 | Val Acc: 0.753394 loss: 0.751682\n",
            "[041/060] Train Acc: 0.780749 Loss: 0.639814 | Val Acc: 0.754297 loss: 0.754942\n",
            "[042/060] Train Acc: 0.782361 Loss: 0.635553 | Val Acc: 0.751882 loss: 0.759507\n",
            "[043/060] Train Acc: 0.783516 Loss: 0.631854 | Val Acc: 0.752923 loss: 0.757361\n",
            "[044/060] Train Acc: 0.785075 Loss: 0.627583 | Val Acc: 0.753126 loss: 0.761250\n",
            "[045/060] Train Acc: 0.785788 Loss: 0.623641 | Val Acc: 0.753622 loss: 0.760690\n",
            "[046/060] Train Acc: 0.786575 Loss: 0.621674 | Val Acc: 0.755931 loss: 0.757707\n",
            "saving model with acc 0.756\n",
            "[047/060] Train Acc: 0.787713 Loss: 0.617989 | Val Acc: 0.754021 loss: 0.765091\n",
            "[048/060] Train Acc: 0.788093 Loss: 0.615660 | Val Acc: 0.753541 loss: 0.762955\n",
            "[049/060] Train Acc: 0.789250 Loss: 0.611790 | Val Acc: 0.754175 loss: 0.761771\n",
            "[050/060] Train Acc: 0.790507 Loss: 0.608519 | Val Acc: 0.754468 loss: 0.761857\n",
            "[051/060] Train Acc: 0.791475 Loss: 0.605339 | Val Acc: 0.753118 loss: 0.767443\n",
            "[052/060] Train Acc: 0.792375 Loss: 0.602465 | Val Acc: 0.753207 loss: 0.767093\n",
            "[053/060] Train Acc: 0.793552 Loss: 0.599129 | Val Acc: 0.753947 loss: 0.763739\n",
            "[054/060] Train Acc: 0.793437 Loss: 0.597883 | Val Acc: 0.753996 loss: 0.767021\n",
            "[055/060] Train Acc: 0.794706 Loss: 0.595076 | Val Acc: 0.752508 loss: 0.771737\n",
            "[056/060] Train Acc: 0.795465 Loss: 0.592303 | Val Acc: 0.754590 loss: 0.769388\n",
            "[057/060] Train Acc: 0.796058 Loss: 0.589529 | Val Acc: 0.752793 loss: 0.771043\n",
            "[058/060] Train Acc: 0.796775 Loss: 0.587681 | Val Acc: 0.752411 loss: 0.772848\n",
            "[059/060] Train Acc: 0.797731 Loss: 0.584826 | Val Acc: 0.753403 loss: 0.774638\n",
            "[060/060] Train Acc: 0.797857 Loss: 0.583741 | Val Acc: 0.753630 loss: 0.773658\n"
          ]
        }
      ],
      "source": [
        "# start training\n",
        "\n",
        "best_acc = 0.0\n",
        "for epoch in range(num_epoch):\n",
        "    train_acc = 0.0\n",
        "    train_loss = 0.0\n",
        "    val_acc = 0.0\n",
        "    val_loss = 0.0\n",
        "\n",
        "    # training\n",
        "    model.train() # set the model to training mode\n",
        "    #scheduler = torch.optim.lr_scheduler.CyclicLR(optimizer, base_lr = 1e-5, max_lr = 1e-2,cycle_momentum=False)\n",
        "    scheduler = torch.optim.lr_scheduler.CyclicLR(optimizer, base_lr = 1e-5, max_lr = 1e-2)\n",
        "    for i, data in enumerate(train_loader):\n",
        "        inputs, labels = data\n",
        "        inputs, labels = inputs.to(device), labels.to(device)\n",
        "        optimizer.zero_grad() \n",
        "        outputs = model(inputs) \n",
        "        batch_loss = criterion(outputs, labels)\n",
        "        _, train_pred = torch.max(outputs, 1) # get the index of the class with the highest probability\n",
        "        batch_loss.backward() \n",
        "        optimizer.step() \n",
        "        if scheduler.__module__ == 'torch.optim.lr_scheduler':\n",
        "            scheduler.step()\n",
        "\n",
        "        train_acc += (train_pred.cpu() == labels.cpu()).sum().item()\n",
        "        train_loss += batch_loss.item()\n",
        "\n",
        "    # validation\n",
        "    if len(val_set) > 0:\n",
        "        model.eval() # set the model to evaluation mode\n",
        "        with torch.no_grad():\n",
        "            for i, data in enumerate(val_loader):\n",
        "                inputs, labels = data\n",
        "                inputs, labels = inputs.to(device), labels.to(device)\n",
        "                outputs = model(inputs)\n",
        "                batch_loss = criterion(outputs, labels) \n",
        "                _, val_pred = torch.max(outputs, 1) \n",
        "            \n",
        "                val_acc += (val_pred.cpu() == labels.cpu()).sum().item() # get the index of the class with the highest probability\n",
        "                val_loss += batch_loss.item()\n",
        "\n",
        "            print('[{:03d}/{:03d}] Train Acc: {:3.6f} Loss: {:3.6f} | Val Acc: {:3.6f} loss: {:3.6f}'.format(\n",
        "                epoch + 1, num_epoch, train_acc/len(train_set), train_loss/len(train_loader), val_acc/len(val_set), val_loss/len(val_loader)\n",
        "            ))\n",
        "\n",
        "            # if the model improves, save a checkpoint at this epoch\n",
        "            if val_acc > best_acc:\n",
        "                best_acc = val_acc\n",
        "                torch.save(model.state_dict(), model_path)\n",
        "                print('saving model with acc {:.3f}'.format(best_acc/len(val_set)))\n",
        "    else:\n",
        "        print('[{:03d}/{:03d}] Train Acc: {:3.6f} Loss: {:3.6f}'.format(\n",
        "            epoch + 1, num_epoch, train_acc/len(train_set), train_loss/len(train_loader)\n",
        "        ))\n",
        "\n",
        "# if not validating, save the last epoch\n",
        "if len(val_set) == 0:\n",
        "    torch.save(model.state_dict(), model_path)\n",
        "    print('saving model at last epoch')\n"
      ]
    },
    {
      "cell_type": "markdown",
      "metadata": {
        "id": "1Hi7jTn3PX-m"
      },
      "source": [
        "## Testing"
      ]
    },
    {
      "cell_type": "markdown",
      "metadata": {
        "id": "NfUECMFCn5VG"
      },
      "source": [
        "Create a testing dataset, and load model from the saved checkpoint."
      ]
    },
    {
      "cell_type": "code",
      "execution_count": 27,
      "metadata": {
        "id": "1PKjtAScPWtr",
        "colab": {
          "base_uri": "https://localhost:8080/"
        },
        "outputId": "2d9c6f5b-4e66-4b9c-f01b-22a55f0ac7e7"
      },
      "outputs": [
        {
          "output_type": "execute_result",
          "data": {
            "text/plain": [
              "<All keys matched successfully>"
            ]
          },
          "metadata": {},
          "execution_count": 27
        }
      ],
      "source": [
        "# create testing dataset\n",
        "test_set = TIMITDataset(test, None)\n",
        "test_loader = DataLoader(test_set, batch_size=BATCH_SIZE, shuffle=False)\n",
        "\n",
        "# create model and load weights from checkpoint\n",
        "model = Classifier().to(device)\n",
        "model.load_state_dict(torch.load(model_path))"
      ]
    },
    {
      "cell_type": "markdown",
      "metadata": {
        "id": "940TtCCdoYd0"
      },
      "source": [
        "Make prediction."
      ]
    },
    {
      "cell_type": "code",
      "execution_count": 28,
      "metadata": {
        "id": "84HU5GGjPqR0"
      },
      "outputs": [],
      "source": [
        "predict = []\n",
        "model.eval() # set the model to evaluation mode\n",
        "with torch.no_grad():\n",
        "    for i, data in enumerate(test_loader):\n",
        "        inputs = data\n",
        "        inputs = inputs.to(device)\n",
        "        outputs = model(inputs)\n",
        "        _, test_pred = torch.max(outputs, 1) # get the index of the class with the highest probability\n",
        "\n",
        "        for y in test_pred.cpu().numpy():\n",
        "            predict.append(y)"
      ]
    },
    {
      "cell_type": "markdown",
      "metadata": {
        "id": "AWDf_C-omElb"
      },
      "source": [
        "Write prediction to a CSV file.\n",
        "\n",
        "After finish running this block, download the file `prediction.csv` from the files section on the left-hand side and submit it to Kaggle."
      ]
    },
    {
      "cell_type": "code",
      "execution_count": 29,
      "metadata": {
        "id": "GuljYSPHcZir"
      },
      "outputs": [],
      "source": [
        "with open('prediction.csv', 'w') as f:\n",
        "    f.write('Id,Class\\n')\n",
        "    for i, y in enumerate(predict):\n",
        "        f.write('{},{}\\n'.format(i, y))"
      ]
    }
  ],
  "metadata": {
    "accelerator": "GPU",
    "colab": {
      "provenance": [],
      "include_colab_link": true
    },
    "gpuClass": "standard",
    "kernelspec": {
      "display_name": "Python 3",
      "name": "python3"
    }
  },
  "nbformat": 4,
  "nbformat_minor": 0
}