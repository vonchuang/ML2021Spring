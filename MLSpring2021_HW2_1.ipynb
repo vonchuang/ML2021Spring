{
  "cells": [
    {
      "cell_type": "markdown",
      "metadata": {
        "id": "view-in-github",
        "colab_type": "text"
      },
      "source": [
        "<a href=\"https://colab.research.google.com/github/vonchuang/ML2021Spring/blob/main/MLSpring2021_HW2_1.ipynb\" target=\"_parent\"><img src=\"https://colab.research.google.com/assets/colab-badge.svg\" alt=\"Open In Colab\"/></a>"
      ]
    },
    {
      "cell_type": "markdown",
      "metadata": {
        "id": "OYlaRwNu7ojq"
      },
      "source": [
        "# **Homework 2-1 Phoneme Classification**\n",
        "\n",
        "* Slides: https://speech.ee.ntu.edu.tw/~hylee/ml/ml2021-course-data/hw/HW02/HW02.pdf\n",
        "* Video (Chinese): https://youtu.be/PdjXnQbu2zo\n",
        "* Video (English): https://youtu.be/ESRr-VCykBs\n"
      ]
    },
    {
      "cell_type": "markdown",
      "metadata": {
        "id": "emUd7uS7crTz"
      },
      "source": [
        "## The DARPA TIMIT Acoustic-Phonetic Continuous Speech Corpus (TIMIT)\n",
        "The TIMIT corpus of reading speech has been designed to provide speech data for the acquisition of acoustic-phonetic knowledge and for the development and evaluation of automatic speech recognition systems.\n",
        "\n",
        "This homework is a multiclass classification task, \n",
        "we are going to train a deep neural network classifier to predict the phonemes for each frame from the speech corpus TIMIT.\n",
        "\n",
        "link: https://academictorrents.com/details/34e2b78745138186976cbc27939b1b34d18bd5b3"
      ]
    },
    {
      "cell_type": "markdown",
      "metadata": {
        "id": "KVUGfWTo7_Oj"
      },
      "source": [
        "## Download Data\n",
        "Download data from google drive, then unzip it.\n",
        "\n",
        "You should have `timit_11/train_11.npy`, `timit_11/train_label_11.npy`, and `timit_11/test_11.npy` after running this block.<br><br>\n",
        "`timit_11/`\n",
        "- `train_11.npy`: training data<br>\n",
        "- `train_label_11.npy`: training label<br>\n",
        "- `test_11.npy`:  testing data<br><br>\n",
        "\n",
        "**notes: if the google drive link is dead, you can download the data directly from Kaggle and upload it to the workspace**\n",
        "\n",
        "\n"
      ]
    },
    {
      "cell_type": "code",
      "execution_count": 27,
      "metadata": {
        "id": "XYJD18bulf-H"
      },
      "outputs": [],
      "source": [
        "#from google.colab import drive # Import a library named google.colab\n",
        "#drive.mount('/content/drive', force_remount=True) # mount the content to the directory `/content/drive`"
      ]
    },
    {
      "cell_type": "code",
      "execution_count": 28,
      "metadata": {
        "id": "OzkiMEcC3Foq"
      },
      "outputs": [],
      "source": [
        "#!cp /content/drive/MyDrive/ML2021/data.zip ./\n",
        "#!gdown --no-cookies --id '1HPkcmQmFGu-3OknddKIa5dNDsR05lIQR' --output data.zip\n",
        "#!unzip data.zip\n",
        "#!ls "
      ]
    },
    {
      "cell_type": "markdown",
      "metadata": {
        "id": "_L_4anls8Drv"
      },
      "source": [
        "## Preparing Data\n",
        "Load the training and testing data from the `.npy` file (NumPy array)."
      ]
    },
    {
      "cell_type": "code",
      "execution_count": 29,
      "metadata": {
        "colab": {
          "base_uri": "https://localhost:8080/"
        },
        "id": "IJjLT8em-y9G",
        "outputId": "ab3a1b3a-61a1-429d-deba-f408f8aefa7b"
      },
      "outputs": [
        {
          "output_type": "stream",
          "name": "stdout",
          "text": [
            "Loading data ...\n",
            "Size of training data: (1229932, 429)\n",
            "Size of testing data: (451552, 429)\n"
          ]
        }
      ],
      "source": [
        "import numpy as np\n",
        "\n",
        "print('Loading data ...')\n",
        "\n",
        "data_root='./timit_11/'\n",
        "train = np.load(data_root + 'train_11.npy')\n",
        "train_label = np.load(data_root + 'train_label_11.npy')\n",
        "test = np.load(data_root + 'test_11.npy')\n",
        "\n",
        "print('Size of training data: {}'.format(train.shape))\n",
        "print('Size of testing data: {}'.format(test.shape))"
      ]
    },
    {
      "cell_type": "markdown",
      "metadata": {
        "id": "us5XW_x6udZQ"
      },
      "source": [
        "## Create Dataset"
      ]
    },
    {
      "cell_type": "code",
      "execution_count": 30,
      "metadata": {
        "id": "Fjf5EcmJtf4e"
      },
      "outputs": [],
      "source": [
        "import torch\n",
        "from torch.utils.data import Dataset\n",
        "\n",
        "class TIMITDataset(Dataset):\n",
        "    def __init__(self, X, y=None):\n",
        "        self.data = torch.from_numpy(X).float()\n",
        "        if y is not None:\n",
        "            y = y.astype(np.int)\n",
        "            self.label = torch.LongTensor(y)\n",
        "        else:\n",
        "            self.label = None\n",
        "\n",
        "    def __getitem__(self, idx):\n",
        "        if self.label is not None:\n",
        "            return self.data[idx], self.label[idx]\n",
        "        else:\n",
        "            return self.data[idx]\n",
        "\n",
        "    def __len__(self):\n",
        "        return len(self.data)\n"
      ]
    },
    {
      "cell_type": "markdown",
      "metadata": {
        "id": "otIC6WhGeh9v"
      },
      "source": [
        "Split the labeled data into a training set and a validation set, you can modify the variable `VAL_RATIO` to change the ratio of validation data."
      ]
    },
    {
      "cell_type": "code",
      "execution_count": 31,
      "metadata": {
        "colab": {
          "base_uri": "https://localhost:8080/"
        },
        "id": "sYqi_lAuvC59",
        "outputId": "8466c22b-8305-49bf-8283-530bd8583500"
      },
      "outputs": [
        {
          "output_type": "stream",
          "name": "stdout",
          "text": [
            "Size of training set: (1131537, 429)\n",
            "Size of validation set: (98395, 429)\n"
          ]
        }
      ],
      "source": [
        "VAL_RATIO = 0.08\n",
        "\n",
        "percent = int(train.shape[0] * (1 - VAL_RATIO))\n",
        "train_x, train_y, val_x, val_y = train[:percent], train_label[:percent], train[percent:], train_label[percent:]\n",
        "print('Size of training set: {}'.format(train_x.shape))\n",
        "print('Size of validation set: {}'.format(val_x.shape))"
      ]
    },
    {
      "cell_type": "markdown",
      "metadata": {
        "id": "nbCfclUIgMTX"
      },
      "source": [
        "Create a data loader from the dataset, feel free to tweak the variable `BATCH_SIZE` here."
      ]
    },
    {
      "cell_type": "code",
      "execution_count": 32,
      "metadata": {
        "colab": {
          "base_uri": "https://localhost:8080/"
        },
        "id": "RUCbQvqJurYc",
        "outputId": "9616b833-57c6-41c0-e72f-059995bf270a"
      },
      "outputs": [
        {
          "output_type": "stream",
          "name": "stderr",
          "text": [
            "<ipython-input-30-f6af567917fe>:8: DeprecationWarning: `np.int` is a deprecated alias for the builtin `int`. To silence this warning, use `int` by itself. Doing this will not modify any behavior and is safe. When replacing `np.int`, you may wish to use e.g. `np.int64` or `np.int32` to specify the precision. If you wish to review your current use, check the release note link for additional information.\n",
            "Deprecated in NumPy 1.20; for more details and guidance: https://numpy.org/devdocs/release/1.20.0-notes.html#deprecations\n",
            "  y = y.astype(np.int)\n"
          ]
        }
      ],
      "source": [
        "BATCH_SIZE = 256\n",
        "\n",
        "from torch.utils.data import DataLoader\n",
        "\n",
        "train_set = TIMITDataset(train_x, train_y)\n",
        "val_set = TIMITDataset(val_x, val_y)\n",
        "train_loader = DataLoader(train_set, batch_size=BATCH_SIZE, shuffle=True) #only shuffle the training data\n",
        "val_loader = DataLoader(val_set, batch_size=BATCH_SIZE, shuffle=False)"
      ]
    },
    {
      "cell_type": "markdown",
      "metadata": {
        "id": "_SY7X0lUgb50"
      },
      "source": [
        "Cleanup the unneeded variables to save memory.<br>\n",
        "\n",
        "**notes: if you need to use these variables later, then you may remove this block or clean up unneeded variables later<br>the data size is quite huge, so be aware of memory usage in colab**"
      ]
    },
    {
      "cell_type": "code",
      "execution_count": 33,
      "metadata": {
        "colab": {
          "base_uri": "https://localhost:8080/"
        },
        "id": "y8rzkGraeYeN",
        "outputId": "06efab09-62e6-4c2d-9a19-28df15c090ee"
      },
      "outputs": [
        {
          "output_type": "execute_result",
          "data": {
            "text/plain": [
              "142"
            ]
          },
          "metadata": {},
          "execution_count": 33
        }
      ],
      "source": [
        "import gc\n",
        "\n",
        "del train, train_label, train_x, train_y, val_x, val_y\n",
        "gc.collect()"
      ]
    },
    {
      "cell_type": "markdown",
      "metadata": {
        "id": "IRqKNvNZwe3V"
      },
      "source": [
        "## Create Model"
      ]
    },
    {
      "cell_type": "markdown",
      "metadata": {
        "id": "FYr1ng5fh9pA"
      },
      "source": [
        "Define model architecture, you are encouraged to change and experiment with the model architecture."
      ]
    },
    {
      "cell_type": "markdown",
      "source": [
        "* ref: [深度學習基礎系列（九）| Dropout VS Batch Normalization? 是時候放棄Dropout了](https://www.796t.com/content/1542171910.html)\n",
        "    \n",
        "    實測：dropout(0.2) 0.73 -> no dropout 0.71"
      ],
      "metadata": {
        "id": "i-wE5hsC3zed"
      }
    },
    {
      "cell_type": "code",
      "execution_count": 34,
      "metadata": {
        "id": "lbZrwT6Ny0XL"
      },
      "outputs": [],
      "source": [
        "import torch\n",
        "import torch.nn as nn\n",
        "\n",
        "class Classifier(nn.Module):\n",
        "    def __init__(self):\n",
        "        super(Classifier, self).__init__()\n",
        "        self.layer1 = nn.Linear(429, 1287)\n",
        "        self.layer2 = nn.Linear(1287, 858)\n",
        "        self.layer3 = nn.Linear(858, 429)\n",
        "        self.layer4 = nn.Linear(429, 195)\n",
        "        self.out = nn.Linear(195, 39) \n",
        "        self.batch_norm_1 = nn.BatchNorm1d(1287)#使用BN，加速模型训练\n",
        "        self.batch_norm_2 = nn.BatchNorm1d(858)\n",
        "        self.batch_norm_3 = nn.BatchNorm1d(429)\n",
        "        self.batch_norm_4 = nn.BatchNorm1d(195)\n",
        "        self.drop_out = nn.Dropout(p=0.2)#使用Dropout，减小过拟合，注意不能在BN之前\n",
        "\n",
        "        #self.act_fn = nn.Sigmoid()\n",
        "        self.act_fn = nn.LeakyReLU()\n",
        "\n",
        "    def forward(self, x):\n",
        "        x = self.layer1(x)\n",
        "        x = self.batch_norm_1(x)\n",
        "        x = self.act_fn(x)\n",
        "        x = self.drop_out(x)\n",
        "\n",
        "        x = self.layer2(x)\n",
        "        x = self.batch_norm_2(x)\n",
        "        x = self.act_fn(x)\n",
        "        x = self.drop_out(x)\n",
        "\n",
        "        x = self.layer3(x)\n",
        "        x = self.batch_norm_3(x)\n",
        "        x = self.act_fn(x)\n",
        "        x = self.drop_out(x)\n",
        "\n",
        "        x = self.layer4(x)\n",
        "        x = self.batch_norm_4(x)\n",
        "        x = self.act_fn(x)\n",
        "        x = self.drop_out(x)\n",
        "\n",
        "        x = self.out(x)\n",
        "        \n",
        "        return x"
      ]
    },
    {
      "cell_type": "markdown",
      "metadata": {
        "id": "VRYciXZvPbYh"
      },
      "source": [
        "## Training"
      ]
    },
    {
      "cell_type": "code",
      "execution_count": 35,
      "metadata": {
        "id": "y114Vmm3Ja6o"
      },
      "outputs": [],
      "source": [
        "#check device\n",
        "def get_device():\n",
        "  return 'cuda' if torch.cuda.is_available() else 'cpu'"
      ]
    },
    {
      "cell_type": "markdown",
      "metadata": {
        "id": "sEX-yjHjhGuH"
      },
      "source": [
        "Fix random seeds for reproducibility."
      ]
    },
    {
      "cell_type": "code",
      "execution_count": 36,
      "metadata": {
        "id": "88xPiUnm0tAd"
      },
      "outputs": [],
      "source": [
        "# fix random seed\n",
        "def same_seeds(seed):\n",
        "    torch.manual_seed(seed)\n",
        "    if torch.cuda.is_available():\n",
        "        torch.cuda.manual_seed(seed)\n",
        "        torch.cuda.manual_seed_all(seed)  \n",
        "    np.random.seed(seed)  \n",
        "    torch.backends.cudnn.benchmark = False\n",
        "    torch.backends.cudnn.deterministic = True"
      ]
    },
    {
      "cell_type": "markdown",
      "metadata": {
        "id": "KbBcBXkSp6RA"
      },
      "source": [
        "Feel free to change the training parameters here."
      ]
    },
    {
      "cell_type": "code",
      "source": [
        "def cal_loss(self, pred, target):\n",
        "        ''' Calculate loss '''\n",
        "        regularization_loss = 0\n",
        "        for param in model.parameters():\n",
        "        # TODO: you may implement L1/L2 regularization here\n",
        "        # 使用L2正则项\n",
        "            # regularization_loss += torch.sum(abs(param))\n",
        "            regularization_loss += torch.sum(param ** 2)\n",
        "        return self.criterion(pred, target) + 0.00075 * regularization_loss"
      ],
      "metadata": {
        "id": "j5vaSSt_e1rn"
      },
      "execution_count": 37,
      "outputs": []
    },
    {
      "cell_type": "code",
      "execution_count": 38,
      "metadata": {
        "colab": {
          "base_uri": "https://localhost:8080/"
        },
        "id": "QTp3ZXg1yO9Y",
        "outputId": "d03daca8-f68a-4aed-e695-90a90f912447"
      },
      "outputs": [
        {
          "output_type": "stream",
          "name": "stdout",
          "text": [
            "DEVICE: cuda\n"
          ]
        }
      ],
      "source": [
        " # fix random seed for reproducibility\n",
        "same_seeds(0)\n",
        "\n",
        "# get device \n",
        "device = get_device()\n",
        "print(f'DEVICE: {device}')\n",
        "\n",
        "# training parameters\n",
        "num_epoch = 50               # number of training epoch\n",
        "learning_rate = 0.001       # learning rate\n",
        "#momentum = 0.9               # momentum\n",
        "weight_decay = 1e-3\n",
        "\n",
        "# the path where checkpoint saved\n",
        "model_path = './model.ckpt'\n",
        "\n",
        "# create model, define a loss function, and optimizer\n",
        "model = Classifier().to(device)\n",
        "criterion = nn.CrossEntropyLoss() \n",
        "optimizer = torch.optim.AdamW(model.parameters(), lr=learning_rate, weight_decay=weight_decay)\n",
        "#optimizer = torch.optim.SGD(model.parameters(), lr=learning_rate, momentum=momentum)"
      ]
    },
    {
      "cell_type": "markdown",
      "source": [
        "* Ref\n",
        "  1. \"Usually,weight decay is very small. If your learning rate is 1e-3 (0.001), you can set you weight decay as 1e-6 or 1e-7 like that.\" https://qr.ae/prOb3j\n",
        "  2. [AdamW, 60epoch](https://ithelp.ithome.com.tw/articles/10306518)\n",
        "  3. [Order](https://stackoverflow.com/a/40295999):\n",
        "    \n",
        "    -> CONV/FC -> BatchNorm -> ReLu(or other activation) -> Dropout -> CONV/FC ->\n",
        "  4. [Learning rate schedule](https://hackmd.io/@Hong-Jia/H1hmbNr1d#%E4%B8%80-Using-learning-rate-schedule): CyclicLR\n",
        "  5. (X)[Lookahead](https://medium.com/ai-blog-tw/deep-learning-%E7%82%BA%E4%BB%80%E9%BA%BCadam%E5%B8%B8%E5%B8%B8%E6%89%93%E4%B8%8D%E9%81%8Esgd-%E7%99%A5%E7%B5%90%E9%BB%9E%E8%88%87%E6%94%B9%E5%96%84%E6%96%B9%E6%A1%88-fd514176f805) :[implement](https://github.com/lonePatient/lookahead_pytorch)\n",
        "  6. [為什麼Adam常常打不過SGD？癥結點與改善方案](https://medium.com/ai-blog-tw/deep-learning-%E7%82%BA%E4%BB%80%E9%BA%BCadam%E5%B8%B8%E5%B8%B8%E6%89%93%E4%B8%8D%E9%81%8Esgd-%E7%99%A5%E7%B5%90%E9%BB%9E%E8%88%87%E6%94%B9%E5%96%84%E6%96%B9%E6%A1%88-fd514176f805)\n"
      ],
      "metadata": {
        "id": "9S2v_0CggmLS"
      }
    },
    {
      "cell_type": "code",
      "execution_count": 39,
      "metadata": {
        "colab": {
          "base_uri": "https://localhost:8080/"
        },
        "id": "CdMWsBs7zzNs",
        "outputId": "0157c58f-1929-4b0d-d7ea-fe3c8c97c65f"
      },
      "outputs": [
        {
          "output_type": "stream",
          "name": "stdout",
          "text": [
            "[001/050] Train Acc: 0.614953 Loss: 1.247508 | Val Acc: 0.706997 loss: 0.900711\n",
            "saving model with acc 0.707\n",
            "[002/050] Train Acc: 0.676642 Loss: 1.010942 | Val Acc: 0.725758 loss: 0.838430\n",
            "saving model with acc 0.726\n",
            "[003/050] Train Acc: 0.697237 Loss: 0.935111 | Val Acc: 0.734194 loss: 0.808166\n",
            "saving model with acc 0.734\n",
            "[004/050] Train Acc: 0.710893 Loss: 0.885911 | Val Acc: 0.739377 loss: 0.787051\n",
            "saving model with acc 0.739\n",
            "[005/050] Train Acc: 0.721442 Loss: 0.848497 | Val Acc: 0.742578 loss: 0.775670\n",
            "saving model with acc 0.743\n",
            "[006/050] Train Acc: 0.728642 Loss: 0.819398 | Val Acc: 0.745973 loss: 0.762830\n",
            "saving model with acc 0.746\n",
            "[007/050] Train Acc: 0.736185 Loss: 0.795550 | Val Acc: 0.747182 loss: 0.762818\n",
            "saving model with acc 0.747\n",
            "[008/050] Train Acc: 0.741288 Loss: 0.774442 | Val Acc: 0.748971 loss: 0.765757\n",
            "saving model with acc 0.749\n",
            "[009/050] Train Acc: 0.746443 Loss: 0.758042 | Val Acc: 0.748778 loss: 0.755518\n",
            "[010/050] Train Acc: 0.750637 Loss: 0.743227 | Val Acc: 0.750150 loss: 0.759317\n",
            "saving model with acc 0.750\n",
            "[011/050] Train Acc: 0.754633 Loss: 0.729188 | Val Acc: 0.750313 loss: 0.760825\n",
            "saving model with acc 0.750\n",
            "[012/050] Train Acc: 0.757439 Loss: 0.717632 | Val Acc: 0.751471 loss: 0.758803\n",
            "saving model with acc 0.751\n",
            "[013/050] Train Acc: 0.761619 Loss: 0.705367 | Val Acc: 0.749997 loss: 0.757284\n",
            "[014/050] Train Acc: 0.764065 Loss: 0.696106 | Val Acc: 0.752040 loss: 0.762466\n",
            "saving model with acc 0.752\n",
            "[015/050] Train Acc: 0.766759 Loss: 0.685777 | Val Acc: 0.753036 loss: 0.757057\n",
            "saving model with acc 0.753\n",
            "[016/050] Train Acc: 0.769009 Loss: 0.679227 | Val Acc: 0.752772 loss: 0.763353\n",
            "[017/050] Train Acc: 0.771377 Loss: 0.671341 | Val Acc: 0.751939 loss: 0.757432\n",
            "[018/050] Train Acc: 0.773403 Loss: 0.664137 | Val Acc: 0.751664 loss: 0.770414\n",
            "[019/050] Train Acc: 0.775438 Loss: 0.656341 | Val Acc: 0.751288 loss: 0.765893\n",
            "[020/050] Train Acc: 0.777565 Loss: 0.650381 | Val Acc: 0.751461 loss: 0.771625\n",
            "[021/050] Train Acc: 0.779405 Loss: 0.644644 | Val Acc: 0.752081 loss: 0.763302\n",
            "[022/050] Train Acc: 0.781227 Loss: 0.638948 | Val Acc: 0.752162 loss: 0.769500\n",
            "[023/050] Train Acc: 0.782514 Loss: 0.633486 | Val Acc: 0.752772 loss: 0.769656\n",
            "[024/050] Train Acc: 0.784027 Loss: 0.629716 | Val Acc: 0.751857 loss: 0.770037\n",
            "[025/050] Train Acc: 0.785047 Loss: 0.624630 | Val Acc: 0.753128 loss: 0.771448\n",
            "saving model with acc 0.753\n",
            "[026/050] Train Acc: 0.785996 Loss: 0.621467 | Val Acc: 0.751989 loss: 0.776222\n",
            "[027/050] Train Acc: 0.787958 Loss: 0.616045 | Val Acc: 0.753331 loss: 0.782601\n",
            "saving model with acc 0.753\n",
            "[028/050] Train Acc: 0.788441 Loss: 0.612177 | Val Acc: 0.753239 loss: 0.781111\n",
            "[029/050] Train Acc: 0.790497 Loss: 0.608251 | Val Acc: 0.751481 loss: 0.775107\n",
            "[030/050] Train Acc: 0.791763 Loss: 0.604351 | Val Acc: 0.751756 loss: 0.781793\n",
            "[031/050] Train Acc: 0.792159 Loss: 0.601891 | Val Acc: 0.751888 loss: 0.789832\n",
            "[032/050] Train Acc: 0.792347 Loss: 0.600236 | Val Acc: 0.754876 loss: 0.781012\n",
            "saving model with acc 0.755\n",
            "[033/050] Train Acc: 0.794350 Loss: 0.594676 | Val Acc: 0.752091 loss: 0.787789\n",
            "[034/050] Train Acc: 0.794974 Loss: 0.593297 | Val Acc: 0.751065 loss: 0.793420\n",
            "[035/050] Train Acc: 0.795483 Loss: 0.590884 | Val Acc: 0.751522 loss: 0.788541\n",
            "[036/050] Train Acc: 0.796776 Loss: 0.587124 | Val Acc: 0.752071 loss: 0.786973\n",
            "[037/050] Train Acc: 0.797153 Loss: 0.585399 | Val Acc: 0.752365 loss: 0.788577\n",
            "[038/050] Train Acc: 0.798500 Loss: 0.581253 | Val Acc: 0.752833 loss: 0.783685\n",
            "[039/050] Train Acc: 0.798677 Loss: 0.580241 | Val Acc: 0.752772 loss: 0.791614\n",
            "[040/050] Train Acc: 0.799740 Loss: 0.578465 | Val Acc: 0.752609 loss: 0.788108\n",
            "[041/050] Train Acc: 0.801210 Loss: 0.574620 | Val Acc: 0.752406 loss: 0.792594\n",
            "[042/050] Train Acc: 0.800971 Loss: 0.572810 | Val Acc: 0.752233 loss: 0.791652\n",
            "[043/050] Train Acc: 0.801699 Loss: 0.571511 | Val Acc: 0.752142 loss: 0.791061\n",
            "[044/050] Train Acc: 0.802419 Loss: 0.569197 | Val Acc: 0.752782 loss: 0.799799\n",
            "[045/050] Train Acc: 0.802721 Loss: 0.568492 | Val Acc: 0.753158 loss: 0.796657\n",
            "[046/050] Train Acc: 0.803612 Loss: 0.565359 | Val Acc: 0.751644 loss: 0.803517\n",
            "[047/050] Train Acc: 0.804186 Loss: 0.563992 | Val Acc: 0.751512 loss: 0.798186\n",
            "[048/050] Train Acc: 0.804295 Loss: 0.562249 | Val Acc: 0.753412 loss: 0.804996\n",
            "[049/050] Train Acc: 0.805128 Loss: 0.560861 | Val Acc: 0.750973 loss: 0.803782\n",
            "[050/050] Train Acc: 0.805635 Loss: 0.559231 | Val Acc: 0.753260 loss: 0.802494\n"
          ]
        }
      ],
      "source": [
        "# start training\n",
        "\n",
        "best_acc = 0.0\n",
        "for epoch in range(num_epoch):\n",
        "    train_acc = 0.0\n",
        "    train_loss = 0.0\n",
        "    val_acc = 0.0\n",
        "    val_loss = 0.0\n",
        "\n",
        "    # training\n",
        "    model.train() # set the model to training mode\n",
        "    scheduler = torch.optim.lr_scheduler.CyclicLR(optimizer, base_lr = 1e-5, max_lr = 1e-2,cycle_momentum=False)\n",
        "    for i, data in enumerate(train_loader):\n",
        "        inputs, labels = data\n",
        "        inputs, labels = inputs.to(device), labels.to(device)\n",
        "        optimizer.zero_grad() \n",
        "        outputs = model(inputs) \n",
        "        batch_loss = criterion(outputs, labels)\n",
        "        _, train_pred = torch.max(outputs, 1) # get the index of the class with the highest probability\n",
        "        batch_loss.backward() \n",
        "        optimizer.step() \n",
        "        if scheduler.__module__ == 'torch.optim.lr_scheduler':\n",
        "            scheduler.step()\n",
        "\n",
        "        train_acc += (train_pred.cpu() == labels.cpu()).sum().item()\n",
        "        train_loss += batch_loss.item()\n",
        "\n",
        "    # validation\n",
        "    if len(val_set) > 0:\n",
        "        model.eval() # set the model to evaluation mode\n",
        "        with torch.no_grad():\n",
        "            for i, data in enumerate(val_loader):\n",
        "                inputs, labels = data\n",
        "                inputs, labels = inputs.to(device), labels.to(device)\n",
        "                outputs = model(inputs)\n",
        "                batch_loss = criterion(outputs, labels) \n",
        "                _, val_pred = torch.max(outputs, 1) \n",
        "            \n",
        "                val_acc += (val_pred.cpu() == labels.cpu()).sum().item() # get the index of the class with the highest probability\n",
        "                val_loss += batch_loss.item()\n",
        "\n",
        "            print('[{:03d}/{:03d}] Train Acc: {:3.6f} Loss: {:3.6f} | Val Acc: {:3.6f} loss: {:3.6f}'.format(\n",
        "                epoch + 1, num_epoch, train_acc/len(train_set), train_loss/len(train_loader), val_acc/len(val_set), val_loss/len(val_loader)\n",
        "            ))\n",
        "\n",
        "            # if the model improves, save a checkpoint at this epoch\n",
        "            if val_acc > best_acc:\n",
        "                best_acc = val_acc\n",
        "                torch.save(model.state_dict(), model_path)\n",
        "                print('saving model with acc {:.3f}'.format(best_acc/len(val_set)))\n",
        "    else:\n",
        "        print('[{:03d}/{:03d}] Train Acc: {:3.6f} Loss: {:3.6f}'.format(\n",
        "            epoch + 1, num_epoch, train_acc/len(train_set), train_loss/len(train_loader)\n",
        "        ))\n",
        "\n",
        "# if not validating, save the last epoch\n",
        "if len(val_set) == 0:\n",
        "    torch.save(model.state_dict(), model_path)\n",
        "    print('saving model at last epoch')\n"
      ]
    },
    {
      "cell_type": "markdown",
      "metadata": {
        "id": "1Hi7jTn3PX-m"
      },
      "source": [
        "## Testing"
      ]
    },
    {
      "cell_type": "markdown",
      "metadata": {
        "id": "NfUECMFCn5VG"
      },
      "source": [
        "Create a testing dataset, and load model from the saved checkpoint."
      ]
    },
    {
      "cell_type": "code",
      "execution_count": 40,
      "metadata": {
        "id": "1PKjtAScPWtr",
        "colab": {
          "base_uri": "https://localhost:8080/"
        },
        "outputId": "fb6f345f-b8eb-445e-e450-7107f7e1d171"
      },
      "outputs": [
        {
          "output_type": "execute_result",
          "data": {
            "text/plain": [
              "<All keys matched successfully>"
            ]
          },
          "metadata": {},
          "execution_count": 40
        }
      ],
      "source": [
        "# create testing dataset\n",
        "test_set = TIMITDataset(test, None)\n",
        "test_loader = DataLoader(test_set, batch_size=BATCH_SIZE, shuffle=False)\n",
        "\n",
        "# create model and load weights from checkpoint\n",
        "model = Classifier().to(device)\n",
        "model.load_state_dict(torch.load(model_path))"
      ]
    },
    {
      "cell_type": "markdown",
      "metadata": {
        "id": "940TtCCdoYd0"
      },
      "source": [
        "Make prediction."
      ]
    },
    {
      "cell_type": "code",
      "execution_count": 41,
      "metadata": {
        "id": "84HU5GGjPqR0"
      },
      "outputs": [],
      "source": [
        "predict = []\n",
        "model.eval() # set the model to evaluation mode\n",
        "with torch.no_grad():\n",
        "    for i, data in enumerate(test_loader):\n",
        "        inputs = data\n",
        "        inputs = inputs.to(device)\n",
        "        outputs = model(inputs)\n",
        "        _, test_pred = torch.max(outputs, 1) # get the index of the class with the highest probability\n",
        "\n",
        "        for y in test_pred.cpu().numpy():\n",
        "            predict.append(y)"
      ]
    },
    {
      "cell_type": "markdown",
      "metadata": {
        "id": "AWDf_C-omElb"
      },
      "source": [
        "Write prediction to a CSV file.\n",
        "\n",
        "After finish running this block, download the file `prediction.csv` from the files section on the left-hand side and submit it to Kaggle."
      ]
    },
    {
      "cell_type": "code",
      "execution_count": 42,
      "metadata": {
        "id": "GuljYSPHcZir"
      },
      "outputs": [],
      "source": [
        "with open('prediction.csv', 'w') as f:\n",
        "    f.write('Id,Class\\n')\n",
        "    for i, y in enumerate(predict):\n",
        "        f.write('{},{}\\n'.format(i, y))"
      ]
    }
  ],
  "metadata": {
    "accelerator": "GPU",
    "colab": {
      "provenance": [],
      "include_colab_link": true
    },
    "gpuClass": "standard",
    "kernelspec": {
      "display_name": "Python 3",
      "name": "python3"
    }
  },
  "nbformat": 4,
  "nbformat_minor": 0
}