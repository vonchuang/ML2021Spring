{
  "cells": [
    {
      "cell_type": "markdown",
      "metadata": {
        "id": "view-in-github",
        "colab_type": "text"
      },
      "source": [
        "<a href=\"https://colab.research.google.com/github/vonchuang/ML2021Spring/blob/main/MLSpring2021_HW2_1.ipynb\" target=\"_parent\"><img src=\"https://colab.research.google.com/assets/colab-badge.svg\" alt=\"Open In Colab\"/></a>"
      ]
    },
    {
      "cell_type": "markdown",
      "metadata": {
        "id": "OYlaRwNu7ojq"
      },
      "source": [
        "# **Homework 2-1 Phoneme Classification**\n",
        "\n",
        "* Slides: https://speech.ee.ntu.edu.tw/~hylee/ml/ml2021-course-data/hw/HW02/HW02.pdf\n",
        "* Video (Chinese): https://youtu.be/PdjXnQbu2zo\n",
        "* Video (English): https://youtu.be/ESRr-VCykBs\n"
      ]
    },
    {
      "cell_type": "markdown",
      "metadata": {
        "id": "emUd7uS7crTz"
      },
      "source": [
        "## The DARPA TIMIT Acoustic-Phonetic Continuous Speech Corpus (TIMIT)\n",
        "The TIMIT corpus of reading speech has been designed to provide speech data for the acquisition of acoustic-phonetic knowledge and for the development and evaluation of automatic speech recognition systems.\n",
        "\n",
        "This homework is a multiclass classification task, \n",
        "we are going to train a deep neural network classifier to predict the phonemes for each frame from the speech corpus TIMIT.\n",
        "\n",
        "link: https://academictorrents.com/details/34e2b78745138186976cbc27939b1b34d18bd5b3"
      ]
    },
    {
      "cell_type": "markdown",
      "metadata": {
        "id": "KVUGfWTo7_Oj"
      },
      "source": [
        "## Download Data\n",
        "Download data from google drive, then unzip it.\n",
        "\n",
        "You should have `timit_11/train_11.npy`, `timit_11/train_label_11.npy`, and `timit_11/test_11.npy` after running this block.<br><br>\n",
        "`timit_11/`\n",
        "- `train_11.npy`: training data<br>\n",
        "- `train_label_11.npy`: training label<br>\n",
        "- `test_11.npy`:  testing data<br><br>\n",
        "\n",
        "**notes: if the google drive link is dead, you can download the data directly from Kaggle and upload it to the workspace**\n",
        "\n",
        "\n"
      ]
    },
    {
      "cell_type": "code",
      "execution_count": 1,
      "metadata": {
        "id": "XYJD18bulf-H"
      },
      "outputs": [],
      "source": [
        "#from google.colab import drive # Import a library named google.colab\n",
        "#drive.mount('/content/drive', force_remount=True) # mount the content to the directory `/content/drive`"
      ]
    },
    {
      "cell_type": "code",
      "execution_count": 2,
      "metadata": {
        "id": "OzkiMEcC3Foq"
      },
      "outputs": [],
      "source": [
        "#!cp /content/drive/MyDrive/ML2021/data.zip ./\n",
        "#!gdown --no-cookies --id '1HPkcmQmFGu-3OknddKIa5dNDsR05lIQR' --output data.zip\n",
        "#!unzip data.zip\n",
        "#!ls "
      ]
    },
    {
      "cell_type": "markdown",
      "metadata": {
        "id": "_L_4anls8Drv"
      },
      "source": [
        "## Preparing Data\n",
        "Load the training and testing data from the `.npy` file (NumPy array)."
      ]
    },
    {
      "cell_type": "code",
      "execution_count": 3,
      "metadata": {
        "colab": {
          "base_uri": "https://localhost:8080/"
        },
        "id": "IJjLT8em-y9G",
        "outputId": "c003bec9-bc73-4616-82c5-d993d08d63a8"
      },
      "outputs": [
        {
          "output_type": "stream",
          "name": "stdout",
          "text": [
            "Loading data ...\n",
            "Size of training data: (1229932, 429)\n",
            "Size of testing data: (451552, 429)\n"
          ]
        }
      ],
      "source": [
        "import numpy as np\n",
        "\n",
        "print('Loading data ...')\n",
        "\n",
        "data_root='./timit_11/'\n",
        "train = np.load(data_root + 'train_11.npy')\n",
        "train_label = np.load(data_root + 'train_label_11.npy')\n",
        "test = np.load(data_root + 'test_11.npy')\n",
        "\n",
        "print('Size of training data: {}'.format(train.shape))\n",
        "print('Size of testing data: {}'.format(test.shape))"
      ]
    },
    {
      "cell_type": "markdown",
      "metadata": {
        "id": "us5XW_x6udZQ"
      },
      "source": [
        "## Create Dataset"
      ]
    },
    {
      "cell_type": "code",
      "execution_count": 4,
      "metadata": {
        "id": "Fjf5EcmJtf4e"
      },
      "outputs": [],
      "source": [
        "import torch\n",
        "from torch.utils.data import Dataset\n",
        "\n",
        "class TIMITDataset(Dataset):\n",
        "    def __init__(self, X, y=None):\n",
        "        self.data = torch.from_numpy(X).float()\n",
        "        if y is not None:\n",
        "            y = y.astype(np.int)\n",
        "            self.label = torch.LongTensor(y)\n",
        "        else:\n",
        "            self.label = None\n",
        "\n",
        "    def __getitem__(self, idx):\n",
        "        if self.label is not None:\n",
        "            return self.data[idx], self.label[idx]\n",
        "        else:\n",
        "            return self.data[idx]\n",
        "\n",
        "    def __len__(self):\n",
        "        return len(self.data)\n"
      ]
    },
    {
      "cell_type": "markdown",
      "metadata": {
        "id": "otIC6WhGeh9v"
      },
      "source": [
        "Split the labeled data into a training set and a validation set, you can modify the variable `VAL_RATIO` to change the ratio of validation data."
      ]
    },
    {
      "cell_type": "code",
      "execution_count": 5,
      "metadata": {
        "colab": {
          "base_uri": "https://localhost:8080/"
        },
        "id": "sYqi_lAuvC59",
        "outputId": "805003f3-606c-45ac-fc12-ebf84a5efaf8"
      },
      "outputs": [
        {
          "output_type": "stream",
          "name": "stdout",
          "text": [
            "Size of training set: (1131537, 429)\n",
            "Size of validation set: (98395, 429)\n"
          ]
        }
      ],
      "source": [
        "VAL_RATIO = 0.08\n",
        "\n",
        "percent = int(train.shape[0] * (1 - VAL_RATIO))\n",
        "train_x, train_y, val_x, val_y = train[:percent], train_label[:percent], train[percent:], train_label[percent:]\n",
        "print('Size of training set: {}'.format(train_x.shape))\n",
        "print('Size of validation set: {}'.format(val_x.shape))"
      ]
    },
    {
      "cell_type": "markdown",
      "metadata": {
        "id": "nbCfclUIgMTX"
      },
      "source": [
        "Create a data loader from the dataset, feel free to tweak the variable `BATCH_SIZE` here."
      ]
    },
    {
      "cell_type": "code",
      "execution_count": 6,
      "metadata": {
        "colab": {
          "base_uri": "https://localhost:8080/"
        },
        "id": "RUCbQvqJurYc",
        "outputId": "fbbdec8f-a063-4318-e0a1-1b05739c737d"
      },
      "outputs": [
        {
          "output_type": "stream",
          "name": "stderr",
          "text": [
            "<ipython-input-4-f6af567917fe>:8: DeprecationWarning: `np.int` is a deprecated alias for the builtin `int`. To silence this warning, use `int` by itself. Doing this will not modify any behavior and is safe. When replacing `np.int`, you may wish to use e.g. `np.int64` or `np.int32` to specify the precision. If you wish to review your current use, check the release note link for additional information.\n",
            "Deprecated in NumPy 1.20; for more details and guidance: https://numpy.org/devdocs/release/1.20.0-notes.html#deprecations\n",
            "  y = y.astype(np.int)\n"
          ]
        }
      ],
      "source": [
        "BATCH_SIZE = 256\n",
        "\n",
        "from torch.utils.data import DataLoader\n",
        "\n",
        "train_set = TIMITDataset(train_x, train_y)\n",
        "val_set = TIMITDataset(val_x, val_y)\n",
        "train_loader = DataLoader(train_set, batch_size=BATCH_SIZE, shuffle=True) #only shuffle the training data\n",
        "val_loader = DataLoader(val_set, batch_size=BATCH_SIZE, shuffle=False)"
      ]
    },
    {
      "cell_type": "markdown",
      "metadata": {
        "id": "_SY7X0lUgb50"
      },
      "source": [
        "Cleanup the unneeded variables to save memory.<br>\n",
        "\n",
        "**notes: if you need to use these variables later, then you may remove this block or clean up unneeded variables later<br>the data size is quite huge, so be aware of memory usage in colab**"
      ]
    },
    {
      "cell_type": "code",
      "execution_count": 7,
      "metadata": {
        "colab": {
          "base_uri": "https://localhost:8080/"
        },
        "id": "y8rzkGraeYeN",
        "outputId": "87cbfc0b-62f8-4c1c-c91f-a93923abc367"
      },
      "outputs": [
        {
          "output_type": "execute_result",
          "data": {
            "text/plain": [
              "0"
            ]
          },
          "metadata": {},
          "execution_count": 7
        }
      ],
      "source": [
        "import gc\n",
        "\n",
        "del train, train_label, train_x, train_y, val_x, val_y\n",
        "gc.collect()"
      ]
    },
    {
      "cell_type": "markdown",
      "metadata": {
        "id": "IRqKNvNZwe3V"
      },
      "source": [
        "## Create Model"
      ]
    },
    {
      "cell_type": "markdown",
      "metadata": {
        "id": "FYr1ng5fh9pA"
      },
      "source": [
        "Define model architecture, you are encouraged to change and experiment with the model architecture."
      ]
    },
    {
      "cell_type": "markdown",
      "source": [
        "* ref: [深度學習基礎系列（九）| Dropout VS Batch Normalization? 是時候放棄Dropout了](https://www.796t.com/content/1542171910.html)\n",
        "    \n",
        "    實測：dropout(0.2) 0.73 -> no dropout 0.71"
      ],
      "metadata": {
        "id": "i-wE5hsC3zed"
      }
    },
    {
      "cell_type": "code",
      "execution_count": 8,
      "metadata": {
        "id": "lbZrwT6Ny0XL"
      },
      "outputs": [],
      "source": [
        "import torch\n",
        "import torch.nn as nn\n",
        "\n",
        "class Classifier(nn.Module):\n",
        "    def __init__(self):\n",
        "        super(Classifier, self).__init__()\n",
        "        self.layer1 = nn.Linear(429, 1287)\n",
        "        self.layer2 = nn.Linear(1287, 858)\n",
        "        self.layer3 = nn.Linear(858, 429)\n",
        "        self.layer4 = nn.Linear(429, 195)\n",
        "        self.out = nn.Linear(195, 39) \n",
        "        self.batch_norm_1 = nn.BatchNorm1d(1287)#使用BN，加速模型训练\n",
        "        self.batch_norm_2 = nn.BatchNorm1d(858)\n",
        "        self.batch_norm_3 = nn.BatchNorm1d(429)\n",
        "        self.batch_norm_4 = nn.BatchNorm1d(195)\n",
        "        self.drop_out = nn.Dropout(p=0.2)#使用Dropout，减小过拟合，注意不能在BN之前\n",
        "\n",
        "        #self.act_fn = nn.Sigmoid()\n",
        "        self.act_fn = nn.LeakyReLU()\n",
        "\n",
        "    def forward(self, x):\n",
        "        x = self.layer1(x)\n",
        "        x = self.batch_norm_1(x)\n",
        "        x = self.act_fn(x)\n",
        "        x = self.drop_out(x)\n",
        "\n",
        "        x = self.layer2(x)\n",
        "        x = self.batch_norm_2(x)\n",
        "        x = self.act_fn(x)\n",
        "        x = self.drop_out(x)\n",
        "\n",
        "        x = self.layer3(x)\n",
        "        x = self.batch_norm_3(x)\n",
        "        x = self.act_fn(x)\n",
        "        x = self.drop_out(x)\n",
        "\n",
        "        x = self.layer4(x)\n",
        "        x = self.batch_norm_4(x)\n",
        "        x = self.act_fn(x)\n",
        "        x = self.drop_out(x)\n",
        "\n",
        "        x = self.out(x)\n",
        "        \n",
        "        return x"
      ]
    },
    {
      "cell_type": "markdown",
      "metadata": {
        "id": "VRYciXZvPbYh"
      },
      "source": [
        "## Training"
      ]
    },
    {
      "cell_type": "code",
      "execution_count": 9,
      "metadata": {
        "id": "y114Vmm3Ja6o"
      },
      "outputs": [],
      "source": [
        "#check device\n",
        "def get_device():\n",
        "  return 'cuda' if torch.cuda.is_available() else 'cpu'"
      ]
    },
    {
      "cell_type": "markdown",
      "metadata": {
        "id": "sEX-yjHjhGuH"
      },
      "source": [
        "Fix random seeds for reproducibility."
      ]
    },
    {
      "cell_type": "code",
      "execution_count": 10,
      "metadata": {
        "id": "88xPiUnm0tAd"
      },
      "outputs": [],
      "source": [
        "# fix random seed\n",
        "def same_seeds(seed):\n",
        "    torch.manual_seed(seed)\n",
        "    if torch.cuda.is_available():\n",
        "        torch.cuda.manual_seed(seed)\n",
        "        torch.cuda.manual_seed_all(seed)  \n",
        "    np.random.seed(seed)  \n",
        "    torch.backends.cudnn.benchmark = False\n",
        "    torch.backends.cudnn.deterministic = True"
      ]
    },
    {
      "cell_type": "markdown",
      "metadata": {
        "id": "KbBcBXkSp6RA"
      },
      "source": [
        "Feel free to change the training parameters here."
      ]
    },
    {
      "cell_type": "code",
      "source": [
        "def cal_loss(self, pred, target):\n",
        "        ''' Calculate loss '''\n",
        "        regularization_loss = 0\n",
        "        for param in model.parameters():\n",
        "        # TODO: you may implement L1/L2 regularization here\n",
        "        # 使用L2正则项\n",
        "            # regularization_loss += torch.sum(abs(param))\n",
        "            regularization_loss += torch.sum(param ** 2)\n",
        "        return self.criterion(pred, target) + 0.00075 * regularization_loss"
      ],
      "metadata": {
        "id": "j5vaSSt_e1rn"
      },
      "execution_count": 11,
      "outputs": []
    },
    {
      "cell_type": "code",
      "execution_count": 12,
      "metadata": {
        "colab": {
          "base_uri": "https://localhost:8080/"
        },
        "id": "QTp3ZXg1yO9Y",
        "outputId": "6c45ea6f-0450-4809-8d73-48185c4166f9"
      },
      "outputs": [
        {
          "output_type": "stream",
          "name": "stdout",
          "text": [
            "DEVICE: cuda\n"
          ]
        }
      ],
      "source": [
        " # fix random seed for reproducibility\n",
        "same_seeds(0)\n",
        "\n",
        "# get device \n",
        "device = get_device()\n",
        "print(f'DEVICE: {device}')\n",
        "\n",
        "# training parameters\n",
        "num_epoch = 50               # number of training epoch\n",
        "learning_rate = 0.001       # learning rate\n",
        "momentum = 0.9               # momentum\n",
        "weight_decay = 1e-3\n",
        "\n",
        "# the path where checkpoint saved\n",
        "model_path = './model.ckpt'\n",
        "\n",
        "# create model, define a loss function, and optimizer\n",
        "model = Classifier().to(device)\n",
        "criterion = nn.CrossEntropyLoss() \n",
        "#optimizer = torch.optim.AdamW(model.parameters(), lr=learning_rate, weight_decay=weight_decay)\n",
        "optimizer = torch.optim.SGD(model.parameters(), lr=learning_rate, momentum=momentum)"
      ]
    },
    {
      "cell_type": "markdown",
      "source": [
        "* Ref\n",
        "  1. \"Usually,weight decay is very small. If your learning rate is 1e-3 (0.001), you can set you weight decay as 1e-6 or 1e-7 like that.\" https://qr.ae/prOb3j\n",
        "  2. [AdamW, 60epoch](https://ithelp.ithome.com.tw/articles/10306518)\n",
        "  3. [Order](https://stackoverflow.com/a/40295999):\n",
        "    \n",
        "    -> CONV/FC -> BatchNorm -> ReLu(or other activation) -> Dropout -> CONV/FC ->\n",
        "  4. [Learning rate schedule](https://hackmd.io/@Hong-Jia/H1hmbNr1d#%E4%B8%80-Using-learning-rate-schedule): CyclicLR\n",
        "  5. (X)[Lookahead](https://medium.com/ai-blog-tw/deep-learning-%E7%82%BA%E4%BB%80%E9%BA%BCadam%E5%B8%B8%E5%B8%B8%E6%89%93%E4%B8%8D%E9%81%8Esgd-%E7%99%A5%E7%B5%90%E9%BB%9E%E8%88%87%E6%94%B9%E5%96%84%E6%96%B9%E6%A1%88-fd514176f805) :[implement](https://github.com/lonePatient/lookahead_pytorch)\n",
        "    不用，因 epoch 後期差距好像不大\n",
        "  6. [為什麼Adam常常打不過SGD？癥結點與改善方案](https://medium.com/ai-blog-tw/deep-learning-%E7%82%BA%E4%BB%80%E9%BA%BCadam%E5%B8%B8%E5%B8%B8%E6%89%93%E4%B8%8D%E9%81%8Esgd-%E7%99%A5%E7%B5%90%E9%BB%9E%E8%88%87%E6%94%B9%E5%96%84%E6%96%B9%E6%A1%88-fd514176f805)\n",
        "    * Adam 的 Test 和 Train 結果差距較大\n"
      ],
      "metadata": {
        "id": "9S2v_0CggmLS"
      }
    },
    {
      "cell_type": "code",
      "execution_count": 13,
      "metadata": {
        "colab": {
          "base_uri": "https://localhost:8080/"
        },
        "id": "CdMWsBs7zzNs",
        "outputId": "811b0e1d-96c8-408d-a12c-7fab9f2f47da"
      },
      "outputs": [
        {
          "output_type": "stream",
          "name": "stdout",
          "text": [
            "[001/050] Train Acc: 0.541807 Loss: 1.560975 | Val Acc: 0.669211 loss: 1.060003\n",
            "saving model with acc 0.669\n",
            "[002/050] Train Acc: 0.633851 Loss: 1.173227 | Val Acc: 0.691895 loss: 0.963947\n",
            "saving model with acc 0.692\n",
            "[003/050] Train Acc: 0.655219 Loss: 1.093420 | Val Acc: 0.706235 loss: 0.915081\n",
            "saving model with acc 0.706\n",
            "[004/050] Train Acc: 0.668821 Loss: 1.044293 | Val Acc: 0.713400 loss: 0.883940\n",
            "saving model with acc 0.713\n",
            "[005/050] Train Acc: 0.678442 Loss: 1.007750 | Val Acc: 0.719193 loss: 0.861402\n",
            "saving model with acc 0.719\n",
            "[006/050] Train Acc: 0.686554 Loss: 0.979718 | Val Acc: 0.724376 loss: 0.842710\n",
            "saving model with acc 0.724\n",
            "[007/050] Train Acc: 0.693048 Loss: 0.955767 | Val Acc: 0.727273 loss: 0.831654\n",
            "saving model with acc 0.727\n",
            "[008/050] Train Acc: 0.698476 Loss: 0.934975 | Val Acc: 0.730545 loss: 0.824795\n",
            "saving model with acc 0.731\n",
            "[009/050] Train Acc: 0.703768 Loss: 0.916707 | Val Acc: 0.733635 loss: 0.808678\n",
            "saving model with acc 0.734\n",
            "[010/050] Train Acc: 0.707283 Loss: 0.901894 | Val Acc: 0.736430 loss: 0.802611\n",
            "saving model with acc 0.736\n",
            "[011/050] Train Acc: 0.711606 Loss: 0.886904 | Val Acc: 0.737619 loss: 0.797401\n",
            "saving model with acc 0.738\n",
            "[012/050] Train Acc: 0.715248 Loss: 0.873049 | Val Acc: 0.739387 loss: 0.787904\n",
            "saving model with acc 0.739\n",
            "[013/050] Train Acc: 0.718606 Loss: 0.860531 | Val Acc: 0.739855 loss: 0.784731\n",
            "saving model with acc 0.740\n",
            "[014/050] Train Acc: 0.721910 Loss: 0.850025 | Val Acc: 0.742599 loss: 0.780590\n",
            "saving model with acc 0.743\n",
            "[015/050] Train Acc: 0.724652 Loss: 0.838712 | Val Acc: 0.742324 loss: 0.775272\n",
            "[016/050] Train Acc: 0.727391 Loss: 0.829149 | Val Acc: 0.743208 loss: 0.775655\n",
            "saving model with acc 0.743\n",
            "[017/050] Train Acc: 0.730066 Loss: 0.820137 | Val Acc: 0.744682 loss: 0.769967\n",
            "saving model with acc 0.745\n",
            "[018/050] Train Acc: 0.733175 Loss: 0.809263 | Val Acc: 0.745150 loss: 0.768871\n",
            "saving model with acc 0.745\n",
            "[019/050] Train Acc: 0.734821 Loss: 0.801751 | Val Acc: 0.746959 loss: 0.763205\n",
            "saving model with acc 0.747\n",
            "[020/050] Train Acc: 0.737759 Loss: 0.793632 | Val Acc: 0.748056 loss: 0.760621\n",
            "saving model with acc 0.748\n",
            "[021/050] Train Acc: 0.739797 Loss: 0.784634 | Val Acc: 0.748534 loss: 0.753818\n",
            "saving model with acc 0.749\n",
            "[022/050] Train Acc: 0.741894 Loss: 0.777019 | Val Acc: 0.749225 loss: 0.755693\n",
            "saving model with acc 0.749\n",
            "[023/050] Train Acc: 0.744271 Loss: 0.769231 | Val Acc: 0.750506 loss: 0.752836\n",
            "saving model with acc 0.751\n",
            "[024/050] Train Acc: 0.746615 Loss: 0.762168 | Val Acc: 0.749662 loss: 0.752003\n",
            "[025/050] Train Acc: 0.748833 Loss: 0.754284 | Val Acc: 0.750841 loss: 0.751651\n",
            "saving model with acc 0.751\n",
            "[026/050] Train Acc: 0.749893 Loss: 0.748989 | Val Acc: 0.751989 loss: 0.748790\n",
            "saving model with acc 0.752\n",
            "[027/050] Train Acc: 0.751848 Loss: 0.742009 | Val Acc: 0.751319 loss: 0.751192\n",
            "[028/050] Train Acc: 0.753470 Loss: 0.736123 | Val Acc: 0.752457 loss: 0.747273\n",
            "saving model with acc 0.752\n",
            "[029/050] Train Acc: 0.755629 Loss: 0.729638 | Val Acc: 0.753138 loss: 0.747764\n",
            "saving model with acc 0.753\n",
            "[030/050] Train Acc: 0.757342 Loss: 0.723994 | Val Acc: 0.754002 loss: 0.748484\n",
            "saving model with acc 0.754\n",
            "[031/050] Train Acc: 0.758949 Loss: 0.717625 | Val Acc: 0.753778 loss: 0.746023\n",
            "[032/050] Train Acc: 0.760079 Loss: 0.713137 | Val Acc: 0.753798 loss: 0.748434\n",
            "[033/050] Train Acc: 0.762163 Loss: 0.706317 | Val Acc: 0.754347 loss: 0.748331\n",
            "saving model with acc 0.754\n",
            "[034/050] Train Acc: 0.763287 Loss: 0.702102 | Val Acc: 0.754175 loss: 0.747945\n",
            "[035/050] Train Acc: 0.765263 Loss: 0.696322 | Val Acc: 0.753809 loss: 0.744425\n",
            "[036/050] Train Acc: 0.766720 Loss: 0.691160 | Val Acc: 0.753179 loss: 0.750105\n",
            "[037/050] Train Acc: 0.767993 Loss: 0.686405 | Val Acc: 0.754124 loss: 0.746218\n",
            "[038/050] Train Acc: 0.769317 Loss: 0.680966 | Val Acc: 0.754500 loss: 0.746746\n",
            "saving model with acc 0.754\n",
            "[039/050] Train Acc: 0.770863 Loss: 0.676312 | Val Acc: 0.754805 loss: 0.745608\n",
            "saving model with acc 0.755\n",
            "[040/050] Train Acc: 0.772157 Loss: 0.671831 | Val Acc: 0.754927 loss: 0.746252\n",
            "saving model with acc 0.755\n",
            "[041/050] Train Acc: 0.773297 Loss: 0.667667 | Val Acc: 0.754632 loss: 0.743126\n",
            "[042/050] Train Acc: 0.774577 Loss: 0.662965 | Val Acc: 0.755475 loss: 0.744785\n",
            "saving model with acc 0.755\n",
            "[043/050] Train Acc: 0.776386 Loss: 0.658360 | Val Acc: 0.754642 loss: 0.750170\n",
            "[044/050] Train Acc: 0.777060 Loss: 0.654683 | Val Acc: 0.755414 loss: 0.746670\n",
            "[045/050] Train Acc: 0.778443 Loss: 0.650763 | Val Acc: 0.755110 loss: 0.752506\n",
            "[046/050] Train Acc: 0.779572 Loss: 0.646410 | Val Acc: 0.756055 loss: 0.748352\n",
            "saving model with acc 0.756\n",
            "[047/050] Train Acc: 0.780937 Loss: 0.642311 | Val Acc: 0.755404 loss: 0.752918\n",
            "[048/050] Train Acc: 0.782027 Loss: 0.638136 | Val Acc: 0.754601 loss: 0.748903\n",
            "[049/050] Train Acc: 0.782943 Loss: 0.635070 | Val Acc: 0.755404 loss: 0.755188\n",
            "[050/050] Train Acc: 0.784319 Loss: 0.630227 | Val Acc: 0.755658 loss: 0.751552\n"
          ]
        }
      ],
      "source": [
        "# start training\n",
        "\n",
        "best_acc = 0.0\n",
        "for epoch in range(num_epoch):\n",
        "    train_acc = 0.0\n",
        "    train_loss = 0.0\n",
        "    val_acc = 0.0\n",
        "    val_loss = 0.0\n",
        "\n",
        "    # training\n",
        "    model.train() # set the model to training mode\n",
        "    #scheduler = torch.optim.lr_scheduler.CyclicLR(optimizer, base_lr = 1e-5, max_lr = 1e-2,cycle_momentum=False)\n",
        "    scheduler = torch.optim.lr_scheduler.CyclicLR(optimizer, base_lr = 1e-5, max_lr = 1e-2)\n",
        "    for i, data in enumerate(train_loader):\n",
        "        inputs, labels = data\n",
        "        inputs, labels = inputs.to(device), labels.to(device)\n",
        "        optimizer.zero_grad() \n",
        "        outputs = model(inputs) \n",
        "        batch_loss = criterion(outputs, labels)\n",
        "        _, train_pred = torch.max(outputs, 1) # get the index of the class with the highest probability\n",
        "        batch_loss.backward() \n",
        "        optimizer.step() \n",
        "        if scheduler.__module__ == 'torch.optim.lr_scheduler':\n",
        "            scheduler.step()\n",
        "\n",
        "        train_acc += (train_pred.cpu() == labels.cpu()).sum().item()\n",
        "        train_loss += batch_loss.item()\n",
        "\n",
        "    # validation\n",
        "    if len(val_set) > 0:\n",
        "        model.eval() # set the model to evaluation mode\n",
        "        with torch.no_grad():\n",
        "            for i, data in enumerate(val_loader):\n",
        "                inputs, labels = data\n",
        "                inputs, labels = inputs.to(device), labels.to(device)\n",
        "                outputs = model(inputs)\n",
        "                batch_loss = criterion(outputs, labels) \n",
        "                _, val_pred = torch.max(outputs, 1) \n",
        "            \n",
        "                val_acc += (val_pred.cpu() == labels.cpu()).sum().item() # get the index of the class with the highest probability\n",
        "                val_loss += batch_loss.item()\n",
        "\n",
        "            print('[{:03d}/{:03d}] Train Acc: {:3.6f} Loss: {:3.6f} | Val Acc: {:3.6f} loss: {:3.6f}'.format(\n",
        "                epoch + 1, num_epoch, train_acc/len(train_set), train_loss/len(train_loader), val_acc/len(val_set), val_loss/len(val_loader)\n",
        "            ))\n",
        "\n",
        "            # if the model improves, save a checkpoint at this epoch\n",
        "            if val_acc > best_acc:\n",
        "                best_acc = val_acc\n",
        "                torch.save(model.state_dict(), model_path)\n",
        "                print('saving model with acc {:.3f}'.format(best_acc/len(val_set)))\n",
        "    else:\n",
        "        print('[{:03d}/{:03d}] Train Acc: {:3.6f} Loss: {:3.6f}'.format(\n",
        "            epoch + 1, num_epoch, train_acc/len(train_set), train_loss/len(train_loader)\n",
        "        ))\n",
        "\n",
        "# if not validating, save the last epoch\n",
        "if len(val_set) == 0:\n",
        "    torch.save(model.state_dict(), model_path)\n",
        "    print('saving model at last epoch')\n"
      ]
    },
    {
      "cell_type": "markdown",
      "metadata": {
        "id": "1Hi7jTn3PX-m"
      },
      "source": [
        "## Testing"
      ]
    },
    {
      "cell_type": "markdown",
      "metadata": {
        "id": "NfUECMFCn5VG"
      },
      "source": [
        "Create a testing dataset, and load model from the saved checkpoint."
      ]
    },
    {
      "cell_type": "code",
      "execution_count": 14,
      "metadata": {
        "id": "1PKjtAScPWtr",
        "colab": {
          "base_uri": "https://localhost:8080/"
        },
        "outputId": "1c2ee787-9b83-49c2-9a36-d967d3f2565d"
      },
      "outputs": [
        {
          "output_type": "execute_result",
          "data": {
            "text/plain": [
              "<All keys matched successfully>"
            ]
          },
          "metadata": {},
          "execution_count": 14
        }
      ],
      "source": [
        "# create testing dataset\n",
        "test_set = TIMITDataset(test, None)\n",
        "test_loader = DataLoader(test_set, batch_size=BATCH_SIZE, shuffle=False)\n",
        "\n",
        "# create model and load weights from checkpoint\n",
        "model = Classifier().to(device)\n",
        "model.load_state_dict(torch.load(model_path))"
      ]
    },
    {
      "cell_type": "markdown",
      "metadata": {
        "id": "940TtCCdoYd0"
      },
      "source": [
        "Make prediction."
      ]
    },
    {
      "cell_type": "code",
      "execution_count": 15,
      "metadata": {
        "id": "84HU5GGjPqR0"
      },
      "outputs": [],
      "source": [
        "predict = []\n",
        "model.eval() # set the model to evaluation mode\n",
        "with torch.no_grad():\n",
        "    for i, data in enumerate(test_loader):\n",
        "        inputs = data\n",
        "        inputs = inputs.to(device)\n",
        "        outputs = model(inputs)\n",
        "        _, test_pred = torch.max(outputs, 1) # get the index of the class with the highest probability\n",
        "\n",
        "        for y in test_pred.cpu().numpy():\n",
        "            predict.append(y)"
      ]
    },
    {
      "cell_type": "markdown",
      "metadata": {
        "id": "AWDf_C-omElb"
      },
      "source": [
        "Write prediction to a CSV file.\n",
        "\n",
        "After finish running this block, download the file `prediction.csv` from the files section on the left-hand side and submit it to Kaggle."
      ]
    },
    {
      "cell_type": "code",
      "execution_count": 16,
      "metadata": {
        "id": "GuljYSPHcZir"
      },
      "outputs": [],
      "source": [
        "with open('prediction.csv', 'w') as f:\n",
        "    f.write('Id,Class\\n')\n",
        "    for i, y in enumerate(predict):\n",
        "        f.write('{},{}\\n'.format(i, y))"
      ]
    }
  ],
  "metadata": {
    "accelerator": "GPU",
    "colab": {
      "provenance": [],
      "include_colab_link": true
    },
    "gpuClass": "standard",
    "kernelspec": {
      "display_name": "Python 3",
      "name": "python3"
    }
  },
  "nbformat": 4,
  "nbformat_minor": 0
}